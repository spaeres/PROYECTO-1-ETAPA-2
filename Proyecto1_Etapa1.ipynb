{
 "cells": [
  {
   "cell_type": "markdown",
   "metadata": {
    "id": "ObqoiJVTyPar"
   },
   "source": [
    "# PROYECTO1-ETAPA1\n",
    "\n",
    "**INTEGRANTES**\n",
    "- Juan Sebastian Sanchez Delgado - 202013577\n",
    "- Miguel Angel Cardenas - 202010998\n",
    "- Santiago Paeres Gonzalez - 201425176"
   ]
  },
  {
   "cell_type": "markdown",
   "metadata": {
    "id": "8b5-Rgp1ynwk"
   },
   "source": [
    "## 1. Entendimiento y preparacion de los datos\n"
   ]
  },
  {
   "cell_type": "code",
   "execution_count": 2,
   "metadata": {
    "id": "elqXMaxmyCm1",
    "ExecuteTime": {
     "end_time": "2023-11-10T02:54:58.803902Z",
     "start_time": "2023-11-10T02:54:58.769164Z"
    }
   },
   "outputs": [],
   "source": [
    "import numpy as np\n",
    "import pandas as pd\n",
    "\n",
    "import nltk\n",
    "from nltk.corpus import stopwords\n",
    "from nltk.tokenize import word_tokenize\n",
    "\n",
    "from sklearn.ensemble import RandomForestClassifier, GradientBoostingClassifier\n",
    "from sklearn.feature_extraction.text import CountVectorizer, TfidfVectorizer\n",
    "from sklearn.metrics import (\n",
    "    ConfusionMatrixDisplay, RocCurveDisplay,\n",
    "    roc_auc_score, precision_score, recall_score, f1_score\n",
    ")\n",
    "from sklearn.model_selection import train_test_split, RandomizedSearchCV\n",
    "from sklearn.pipeline import Pipeline"
   ]
  },
  {
   "cell_type": "code",
   "execution_count": 658,
   "metadata": {
    "id": "qp6v4bT80h5P",
    "ExecuteTime": {
     "end_time": "2023-10-16T02:09:20.779406Z",
     "start_time": "2023-10-16T02:09:20.729050Z"
    }
   },
   "outputs": [],
   "source": [
    "import warnings\n",
    "warnings.filterwarnings(\"ignore\")"
   ]
  },
  {
   "cell_type": "code",
   "execution_count": 659,
   "metadata": {
    "colab": {
     "base_uri": "https://localhost:8080/"
    },
    "id": "4HXd-yb50nt3",
    "outputId": "3270ed29-dcbf-43e4-91d3-36f2cf01d0cd",
    "ExecuteTime": {
     "end_time": "2023-10-16T02:09:21.516141Z",
     "start_time": "2023-10-16T02:09:21.473956Z"
    }
   },
   "outputs": [
    {
     "name": "stderr",
     "output_type": "stream",
     "text": [
      "[nltk_data] Downloading package punkt to\n",
      "[nltk_data]     /Users/santiagopaeres/nltk_data...\n",
      "[nltk_data]   Package punkt is already up-to-date!\n",
      "[nltk_data] Downloading package stopwords to\n",
      "[nltk_data]     /Users/santiagopaeres/nltk_data...\n",
      "[nltk_data]   Package stopwords is already up-to-date!\n"
     ]
    }
   ],
   "source": [
    "# Descargando stopwords\n",
    "nltk.download(\"punkt\")\n",
    "nltk.download(\"stopwords\")\n",
    "stop_words = stopwords.words(\"spanish\")"
   ]
  },
  {
   "cell_type": "code",
   "execution_count": 660,
   "metadata": {
    "id": "FWr4o45k1PDc",
    "ExecuteTime": {
     "end_time": "2023-10-16T02:09:22.457235Z",
     "start_time": "2023-10-16T02:09:22.366599Z"
    }
   },
   "outputs": [],
   "source": [
    "df_ods = pd.read_csv(\"./cat_345.csv\", sep=';', encoding = 'utf8')"
   ]
  },
  {
   "cell_type": "code",
   "execution_count": 661,
   "metadata": {
    "colab": {
     "base_uri": "https://localhost:8080/"
    },
    "id": "L3fXJzsI5pJ_",
    "outputId": "6365d7e6-52e3-45e3-b1c3-8d048c5822fd",
    "ExecuteTime": {
     "end_time": "2023-10-16T02:09:23.096528Z",
     "start_time": "2023-10-16T02:09:23.035466Z"
    }
   },
   "outputs": [
    {
     "data": {
      "text/plain": "(3000, 2)"
     },
     "execution_count": 661,
     "metadata": {},
     "output_type": "execute_result"
    }
   ],
   "source": [
    "df_ods.shape"
   ]
  },
  {
   "cell_type": "code",
   "execution_count": 662,
   "metadata": {
    "colab": {
     "base_uri": "https://localhost:8080/"
    },
    "id": "WqysF8ERFDrh",
    "outputId": "aa3e7052-85f6-49a9-fa49-aaf6be37c918",
    "ExecuteTime": {
     "end_time": "2023-10-16T02:09:23.700207Z",
     "start_time": "2023-10-16T02:09:23.637790Z"
    }
   },
   "outputs": [
    {
     "data": {
      "text/plain": "Textos_espanol    object\nsdg                int64\ndtype: object"
     },
     "execution_count": 662,
     "metadata": {},
     "output_type": "execute_result"
    }
   ],
   "source": [
    "df_ods.dtypes"
   ]
  },
  {
   "cell_type": "code",
   "execution_count": 663,
   "metadata": {
    "colab": {
     "base_uri": "https://localhost:8080/",
     "height": 206
    },
    "id": "u1r4W_z96VdK",
    "outputId": "6b83e625-233b-4144-e4ad-3329340a1530",
    "ExecuteTime": {
     "end_time": "2023-10-16T02:09:24.315627Z",
     "start_time": "2023-10-16T02:09:24.269235Z"
    }
   },
   "outputs": [
    {
     "data": {
      "text/plain": "                                         Textos_espanol  sdg\n2170  Gran parte de la formación en habilidades para...    5\n2759  Además, tanto las víctimas masculinas como las...    5\n2687  Los enfoques deben abordar tanto las barreras ...    5\n2874  Cuando los hogares no pueden acceder a suficie...    5\n678   El desarrollo de la población y la gama cambia...    3",
      "text/html": "<div>\n<style scoped>\n    .dataframe tbody tr th:only-of-type {\n        vertical-align: middle;\n    }\n\n    .dataframe tbody tr th {\n        vertical-align: top;\n    }\n\n    .dataframe thead th {\n        text-align: right;\n    }\n</style>\n<table border=\"1\" class=\"dataframe\">\n  <thead>\n    <tr style=\"text-align: right;\">\n      <th></th>\n      <th>Textos_espanol</th>\n      <th>sdg</th>\n    </tr>\n  </thead>\n  <tbody>\n    <tr>\n      <th>2170</th>\n      <td>Gran parte de la formación en habilidades para...</td>\n      <td>5</td>\n    </tr>\n    <tr>\n      <th>2759</th>\n      <td>Además, tanto las víctimas masculinas como las...</td>\n      <td>5</td>\n    </tr>\n    <tr>\n      <th>2687</th>\n      <td>Los enfoques deben abordar tanto las barreras ...</td>\n      <td>5</td>\n    </tr>\n    <tr>\n      <th>2874</th>\n      <td>Cuando los hogares no pueden acceder a suficie...</td>\n      <td>5</td>\n    </tr>\n    <tr>\n      <th>678</th>\n      <td>El desarrollo de la población y la gama cambia...</td>\n      <td>3</td>\n    </tr>\n  </tbody>\n</table>\n</div>"
     },
     "execution_count": 663,
     "metadata": {},
     "output_type": "execute_result"
    }
   ],
   "source": [
    "df_ods.sample(5)"
   ]
  },
  {
   "cell_type": "markdown",
   "metadata": {
    "id": "Ro4BqScgzX7S"
   },
   "source": [
    "### 1.1 Completitud"
   ]
  },
  {
   "cell_type": "code",
   "execution_count": 664,
   "metadata": {
    "colab": {
     "base_uri": "https://localhost:8080/"
    },
    "id": "sY72_CZF7k2S",
    "outputId": "2f700c2d-a860-4464-f269-3c964616a7c8",
    "ExecuteTime": {
     "end_time": "2023-10-16T02:09:25.807334Z",
     "start_time": "2023-10-16T02:09:25.746093Z"
    }
   },
   "outputs": [
    {
     "data": {
      "text/plain": "Textos_espanol    0.0\nsdg               0.0\ndtype: float64"
     },
     "execution_count": 664,
     "metadata": {},
     "output_type": "execute_result"
    }
   ],
   "source": [
    "# Se muestra la proporcion de registros con valores nulos con respecto a la totalidad de registros\n",
    "df_ods.isnull().sum() / df_ods.shape[0]"
   ]
  },
  {
   "cell_type": "code",
   "execution_count": 665,
   "metadata": {
    "colab": {
     "base_uri": "https://localhost:8080/"
    },
    "id": "nlREVvgq8SxJ",
    "outputId": "10c1b98f-0cb7-4df0-f499-4619e0308e02",
    "ExecuteTime": {
     "end_time": "2023-10-16T02:09:26.442464Z",
     "start_time": "2023-10-16T02:09:26.351955Z"
    }
   },
   "outputs": [
    {
     "data": {
      "text/plain": "Textos_espanol    0.0\nsdg               0.0\ndtype: float64"
     },
     "execution_count": 665,
     "metadata": {},
     "output_type": "execute_result"
    }
   ],
   "source": [
    "# Cálculo de porcentaje de valores nulos por columna\n",
    "((df_ods.isnull().sum()/df_ods.shape[0])).sort_values(ascending=False)"
   ]
  },
  {
   "cell_type": "markdown",
   "metadata": {
    "id": "TSWDC9ZezfEi"
   },
   "source": [
    "### 1.2 Unicidad"
   ]
  },
  {
   "cell_type": "code",
   "execution_count": 666,
   "metadata": {
    "colab": {
     "base_uri": "https://localhost:8080/"
    },
    "id": "gVBtywpK897B",
    "outputId": "3bd88b43-3438-4e2d-e0da-a7ec124b0d91",
    "ExecuteTime": {
     "end_time": "2023-10-16T02:09:27.546284Z",
     "start_time": "2023-10-16T02:09:27.491089Z"
    }
   },
   "outputs": [
    {
     "data": {
      "text/plain": "0"
     },
     "execution_count": 666,
     "metadata": {},
     "output_type": "execute_result"
    }
   ],
   "source": [
    "# Se revisa el número de filas duplicadas\n",
    "df_ods.duplicated(keep = False).sum()"
   ]
  },
  {
   "cell_type": "markdown",
   "metadata": {
    "id": "8eNt1aNIzkFp"
   },
   "source": [
    "### 1.3 Consistencia"
   ]
  },
  {
   "cell_type": "code",
   "execution_count": 667,
   "metadata": {
    "id": "ZeCQhcqf-oz8",
    "ExecuteTime": {
     "end_time": "2023-10-16T02:09:28.849665Z",
     "start_time": "2023-10-16T02:09:28.630424Z"
    }
   },
   "outputs": [],
   "source": [
    "df_ods[\"Textos_espanol\"] = df_ods[\"Textos_espanol\"].astype(str)"
   ]
  },
  {
   "cell_type": "markdown",
   "metadata": {
    "id": "QyvxHZwJzncw"
   },
   "source": [
    "### 1.4 Validez"
   ]
  },
  {
   "cell_type": "code",
   "execution_count": 668,
   "metadata": {
    "colab": {
     "base_uri": "https://localhost:8080/"
    },
    "id": "xlnqsB6d9h3H",
    "outputId": "0828ee36-2f7b-41f1-fa50-fdd2fc6e63b9",
    "ExecuteTime": {
     "end_time": "2023-10-16T02:09:29.890798Z",
     "start_time": "2023-10-16T02:09:29.780137Z"
    }
   },
   "outputs": [
    {
     "data": {
      "text/plain": "sdg\n3    1000\n4    1000\n5    1000\nName: count, dtype: int64"
     },
     "execution_count": 668,
     "metadata": {},
     "output_type": "execute_result"
    }
   ],
   "source": [
    "df_ods['sdg'].value_counts()"
   ]
  },
  {
   "cell_type": "code",
   "execution_count": 669,
   "metadata": {
    "colab": {
     "base_uri": "https://localhost:8080/"
    },
    "id": "q5EIKs2v_IIn",
    "outputId": "ef0feb5f-0473-43af-fe80-2413ef6598c7",
    "ExecuteTime": {
     "end_time": "2023-10-16T02:09:30.514653Z",
     "start_time": "2023-10-16T02:09:30.427689Z"
    }
   },
   "outputs": [
    {
     "data": {
      "text/plain": "Textos_espanol\nPor ejemplo, el nÃºmero de consultas externas de especialistas es de 319 por cada mil derechohabientes en el SP, en comparaciÃ³n con 338 y 620 por cada mil derechohabientes en el IMSS y el ISSSTE, respectivamente. Si bien algunas de estas diferencias pueden reflejar una necesidad desigual (como la poblaciÃ³n ligeramente mayor del ISSSTE), otras no pueden justificarse de esta manera. El nÃºmero de recetas que no pudieron ser surtidas en su totalidad por un farmacÃ©utico debido a la falta de existencias es de 33% dentro del SP en comparaciÃ³n con 14% dentro del IMSS segÃºn los datos de la encuesta (aunque las propias cifras de los institutos de la SS sugieren tasas mÃ¡s altas de recetas surtidas). Ambas cifras se encuentran entre las mÃ¡s altas de la OCDE. El gasto de bolsillo no se ha reducido significativamente en la última década, a pesar de los esfuerzos para lograr la cobertura sanitaria universal a través de la reforma del SP.                                                                                                                                                                                                                                                                                                                                                                                                                                        1\nPonencia presentada en el Taller FAO-FIDA-OIT sobre \"Lagunas, tendencias e investigación actual en las dimensiones de género del empleo agrícola y rural: Differentiated Pathways out of Poverty'Roma, 31 de marzo - 2 de abril de 2009. D. Sahn (1997), \"Gender and Education Impacts on Employment and Earnings inWest Africa: Evidence from Guinea\", Economic Development and Cultural Change, pp. Evidence from Cote-d'Ivoire\", Oxford Bulletin of Economics and Statistics, pp.                                                                                                                                                                                                                                                                                                                                                                                                                                                                                                                                                                                                                                                                                                                                                                                                                                                                                                                                    1\nDe hecho, la educación, medida por años de escolaridad, se correlaciona positivamente con la intensidad de capital en la manufactura (Qu y Cai, 2011). Dado que la mayor parte de la fuerza laboral en China está compuesta por graduados de secundaria y preparatoria, existe un amplio margen para invertir en educación y capacitación para impulsar la productividad laboral. La productividad laboral sería un 23% más alta si los graduados de la escuela secundaria básica tuvieran educación secundaria superior y se duplicaría si los graduados de la escuela secundaria superior tuvieran formación universitaria. Sin embargo, el logro de la educación superior por sí solo puede no ser suficiente. Para adaptarse a la estructura cambiante de la industria, se necesita un amplio conjunto de habilidades y amplios conocimientos generales, que faciliten la adquisición de nuevas habilidades.                                                                                                                                                                                                                                                                                                                                                                                                                                                                                                        1\nEsto se estableció en la Declaración de los Derechos Humanos de las Naciones Unidas de 1948 (artículo 26) y se repitió en la Convención de las Naciones Unidas sobre los Derechos del Niño de 1989 (artículo 28). El informe de la Comisión de Respeto y Comprensión de la Commonwealth, presidida por Amartya Sen, ha llamado más la atención sobre este asunto (Sen, 2007). La educación básica también es ampliamente aceptada en la literatura internacional y el discurso político como esencial para el desarrollo y la reducción de la pobreza (ver, por ejemplo, Lee, 2004, Cohen et al.,                                                                                                                                                                                                                                                                                                                                                                                                                                                                                                                                                                                                                                                                                                                                                                                                                       1\nLa prueba de habilidades básicas en línea para TIC cubre las habilidades básicas que los docentes necesitan para cumplir con su rol profesional más amplio en las escuelas en lugar del conocimiento de la materia requerido para enseñar. La prueba requiere que demuestren la capacidad de realizar cambios en las diapositivas en el software de presentación usando un navegador web, usar el correo electrónico y varias funciones dentro del correo electrónico, usar un editor de texto y correo electrónico, actualizar una hoja de cálculo y descargar recursos de Internet y regístrese para recibir un boletín. Todos los docentes en formación deben aprobar esta prueba en línea de competencia en TIC antes de que se les pueda otorgar el estatus de docente calificado. El “Plan de estudios nacional de formación inicial de profesores en el uso de las TIC en la enseñanza de asignaturas”, que se introdujo en los institutos de formación de profesores en 1998 en Inglaterra, constaba de más de cien declaraciones de competencia en TIC y se extendía a 17 páginas impresas, pero se encontró que era demasiado burocrático y difícil de evaluar en la práctica, de ahí el paso a una formulación más sucinta de las competencias en TIC que se requiere que posean los docentes en formación (informe de país24 dedicado a Inglaterra, última actualización y revisión en octubre de 2007).    1\n                                                                                                                                                                                                                                                                                                                                                                                                                                                                                                                                                                                                                                                                                                                                                                                                                                                                                                                                                                                                                                                                                                                                                                                                                                                                                                                                                                                                                       ..\nLa segunda sección se centra en las variaciones dentro de los países y a lo largo del tiempo, y explora cómo los cambios en la proporción de alumnos por docente, el tamaño de la clase, la remuneración de los docentes y la autonomía escolar para seleccionar docentes se relacionan con las tendencias de desempeño en todos los países y economías participantes de PISA. La última sección se centra en las variaciones dentro de los países y explora cómo las calificaciones y la experiencia de los docentes, la rotación de docentes y el apoyo al aprendizaje profesional de los docentes se relacionan con los resultados a nivel escolar. El uso de dichos datos por parte de la OCDE es sin perjuicio del estado de los Altos del Golán, Jerusalén Este y los asentamientos israelíes en Cisjordania según los términos del derecho internacional.                                                                                                                                                                                                                                                                                                                                                                                                                                                                                                                                                        1\nOtros proveedores incluyen universidades, que brindan cursos a maestros que buscan avanzar en su carrera, organismos del gobierno central como el Instituto de Ciencias de la Educación (IES) y organizaciones no gubernamentales (ONG). También es clave para seguir profesionalizando la función docente y potenciar el prestigio y el atractivo de la profesión. En la encuesta TALIS 2013, solo el 35 % de los docentes de Rumanía afirmaron sentir que su profesión es valorada por la sociedad (OCDE, 2014c).                                                                                                                                                                                                                                                                                                                                                                                                                                                                                                                                                                                                                                                                                                                                                                                                                                                                                                     1\nLos modelos de crecimiento miden la mejora observando \"cómo\" un centro ha mejorado el rendimiento de los alumnos independientemente del nivel de logro (Figlio y Loeb, 2011). Dentro de cada modelo, los profesores están motivados para centrar su atención en diferentes grupos de alumnos. En los modelos de estatus, los estudiantes de bajo rendimiento reciben mayor atención para llevarlos a niveles de competencia, en los modelos de crecimiento, los profesores son recompensados por mejorar los resultados de los estudiantes para cualquier nivel de estudiante. Por lo tanto, en los sistemas de modelos de crecimiento es menos probable que los profesores excluyan a los alumnos de bajo rendimiento, ya que se mide cualquier mejora en los resultados.                                                                                                                                                                                                                                                                                                                                                                                                                                                                                                                                                                                                                                              1\nSe han adoptado medidas para garantizar que todos los alumnos finalicen la escuela secundaria inferior con las habilidades básicas adecuadas, brindar una educación inclusiva y significativa para todos y alentar a los gobiernos y escuelas locales a establecer sus propios objetivos en consonancia con los objetivos nacionales. Dentro de este marco, el Ministerio de Educación de Noruega está buscando enfoques más específicos para fortalecer la calidad de la educación secundaria inferior. Estos se centran en la necesidad de adaptar la enseñanza y el aprendizaje a la motivación de los estudiantes en edades específicas de la adolescencia, de garantizar entornos escolares adecuados que satisfagan sus necesidades y de apoyar transiciones efectivas de un nivel al siguiente.                                                                                                                                                                                                                                                                                                                                                                                                                                                                                                                                                                                                                  1\nEsto ha sido reconocido por los comitÃ©s en la atenciÃ³n prestada a la salud reproductiva de la mujer, el aborto, la anticoncepciÃ³n, el matrimonio precoz y el embarazo en la adolescencia. AsÃ, se reconoce que el control sobre su propia reproducciÃ³n es fundamental para que las mujeres puedan participar en igualdad de condiciones en la sociedad. AsÃ, las Directrices para la presentaciÃ³n de informes sobre el artÃculo 6, el derecho a la vida, exigen a los Estados que proporcionen informaciÃ³n sobre las tasas de natalidad y las muertes de mujeres relacionadas con el embarazo y el parto, asÃ como sobre las medidas adoptadas para ayudar a las mujeres a evitar embarazos no deseados y garantizar que no tengan que someterse a abortos clandestinos que pongan en peligro su vida (PIDCP 2012).                                                                                                                                                                                                                                                                                                                                                                                                                                                                                                                                                                                               1\nName: count, Length: 3000, dtype: int64"
     },
     "execution_count": 669,
     "metadata": {},
     "output_type": "execute_result"
    }
   ],
   "source": [
    "df_ods['Textos_espanol'].value_counts()"
   ]
  },
  {
   "cell_type": "code",
   "execution_count": 670,
   "metadata": {
    "colab": {
     "base_uri": "https://localhost:8080/",
     "height": 677
    },
    "id": "cD-hFooO9kPZ",
    "outputId": "cc650019-9702-451f-e66c-55539f491663",
    "ExecuteTime": {
     "end_time": "2023-10-16T02:09:31.081410Z",
     "start_time": "2023-10-16T02:09:31.027973Z"
    }
   },
   "outputs": [
    {
     "data": {
      "text/plain": "                                         Textos_espanol  sdg\n1771  No se muestran los resultados de Yakarta (Indo...    4\n1760  Los exámenes son una característica común de l...    4\n443   Las enfermeras de atención primaria realizaron...    3\n2968  Los maridos con mayor poder de negociación (re...    5\n923   En estas zonas, el acceso adecuado al servicio...    3\n1662  El impacto del tiempo de instrucción adicional...    4\n288   Las recientes reformas en Italia y, en particu...    3\n2737  Las mujeres políticas denuncian que el acoso s...    5\n2706  Las mujeres migrantes mayores pueden enfrentar...    5\n1409  Además, los valores judíos definen la cultura ...    4\n2658  Los maestros, administradores y estudiantes pu...    5\n2941  Para un análisis completo y profundo de las de...    5\n2769  En comparación con los hombres, las mujeres en...    5\n1930  Examina cómo las desventajas pueden acumularse...    4\n1937  Sin embargo, a pesar de los esfuerzos reciente...    4\n2925  Por último, aunque las mujeres están más satis...    5\n2759  Además, tanto las víctimas masculinas como las...    5\n1722  También se presenta públicamente un breve resu...    4\n2350  Pero también creemos que en sociedades igualit...    5\n496   En estudios recientes en la región del Ártico ...    3",
      "text/html": "<div>\n<style scoped>\n    .dataframe tbody tr th:only-of-type {\n        vertical-align: middle;\n    }\n\n    .dataframe tbody tr th {\n        vertical-align: top;\n    }\n\n    .dataframe thead th {\n        text-align: right;\n    }\n</style>\n<table border=\"1\" class=\"dataframe\">\n  <thead>\n    <tr style=\"text-align: right;\">\n      <th></th>\n      <th>Textos_espanol</th>\n      <th>sdg</th>\n    </tr>\n  </thead>\n  <tbody>\n    <tr>\n      <th>1771</th>\n      <td>No se muestran los resultados de Yakarta (Indo...</td>\n      <td>4</td>\n    </tr>\n    <tr>\n      <th>1760</th>\n      <td>Los exámenes son una característica común de l...</td>\n      <td>4</td>\n    </tr>\n    <tr>\n      <th>443</th>\n      <td>Las enfermeras de atención primaria realizaron...</td>\n      <td>3</td>\n    </tr>\n    <tr>\n      <th>2968</th>\n      <td>Los maridos con mayor poder de negociación (re...</td>\n      <td>5</td>\n    </tr>\n    <tr>\n      <th>923</th>\n      <td>En estas zonas, el acceso adecuado al servicio...</td>\n      <td>3</td>\n    </tr>\n    <tr>\n      <th>1662</th>\n      <td>El impacto del tiempo de instrucción adicional...</td>\n      <td>4</td>\n    </tr>\n    <tr>\n      <th>288</th>\n      <td>Las recientes reformas en Italia y, en particu...</td>\n      <td>3</td>\n    </tr>\n    <tr>\n      <th>2737</th>\n      <td>Las mujeres políticas denuncian que el acoso s...</td>\n      <td>5</td>\n    </tr>\n    <tr>\n      <th>2706</th>\n      <td>Las mujeres migrantes mayores pueden enfrentar...</td>\n      <td>5</td>\n    </tr>\n    <tr>\n      <th>1409</th>\n      <td>Además, los valores judíos definen la cultura ...</td>\n      <td>4</td>\n    </tr>\n    <tr>\n      <th>2658</th>\n      <td>Los maestros, administradores y estudiantes pu...</td>\n      <td>5</td>\n    </tr>\n    <tr>\n      <th>2941</th>\n      <td>Para un análisis completo y profundo de las de...</td>\n      <td>5</td>\n    </tr>\n    <tr>\n      <th>2769</th>\n      <td>En comparación con los hombres, las mujeres en...</td>\n      <td>5</td>\n    </tr>\n    <tr>\n      <th>1930</th>\n      <td>Examina cómo las desventajas pueden acumularse...</td>\n      <td>4</td>\n    </tr>\n    <tr>\n      <th>1937</th>\n      <td>Sin embargo, a pesar de los esfuerzos reciente...</td>\n      <td>4</td>\n    </tr>\n    <tr>\n      <th>2925</th>\n      <td>Por último, aunque las mujeres están más satis...</td>\n      <td>5</td>\n    </tr>\n    <tr>\n      <th>2759</th>\n      <td>Además, tanto las víctimas masculinas como las...</td>\n      <td>5</td>\n    </tr>\n    <tr>\n      <th>1722</th>\n      <td>También se presenta públicamente un breve resu...</td>\n      <td>4</td>\n    </tr>\n    <tr>\n      <th>2350</th>\n      <td>Pero también creemos que en sociedades igualit...</td>\n      <td>5</td>\n    </tr>\n    <tr>\n      <th>496</th>\n      <td>En estudios recientes en la región del Ártico ...</td>\n      <td>3</td>\n    </tr>\n  </tbody>\n</table>\n</div>"
     },
     "execution_count": 670,
     "metadata": {},
     "output_type": "execute_result"
    }
   ],
   "source": [
    "df_ods.sample(20)"
   ]
  },
  {
   "cell_type": "code",
   "execution_count": 671,
   "metadata": {
    "colab": {
     "base_uri": "https://localhost:8080/",
     "height": 424
    },
    "id": "3v6Zn69E_zED",
    "outputId": "fe3de3e1-1ac6-4430-f7e4-39a71007bb7d",
    "ExecuteTime": {
     "end_time": "2023-10-16T02:09:40.807949Z",
     "start_time": "2023-10-16T02:09:40.765474Z"
    }
   },
   "outputs": [
    {
     "data": {
      "text/plain": "                                         Textos_espanol  sdg\n0     Por ejemplo, el nÃºmero de consultas externas ...    3\n10    Dos encuestados seÃ±alaron que no existe un or...    3\n26    También promueve mejoras en la prevención, el ...    3\n30    La falta de programas completos de acreditació...    3\n46    Dado el aumento de enfermedades crónicas como ...    3\n...                                                 ...  ...\n2984  Las actividades empresariales siguen viéndose ...    5\n2990  La Agenda Nacional de Jordania 2006-15 estable...    5\n2991  En la mayoría de los países de la CAO, los fun...    5\n2996  Por el contrario, el porcentaje de hogares en ...    5\n2999  Esto ha sido reconocido por los comitÃ©s en la...    5\n\n[254 rows x 2 columns]",
      "text/html": "<div>\n<style scoped>\n    .dataframe tbody tr th:only-of-type {\n        vertical-align: middle;\n    }\n\n    .dataframe tbody tr th {\n        vertical-align: top;\n    }\n\n    .dataframe thead th {\n        text-align: right;\n    }\n</style>\n<table border=\"1\" class=\"dataframe\">\n  <thead>\n    <tr style=\"text-align: right;\">\n      <th></th>\n      <th>Textos_espanol</th>\n      <th>sdg</th>\n    </tr>\n  </thead>\n  <tbody>\n    <tr>\n      <th>0</th>\n      <td>Por ejemplo, el nÃºmero de consultas externas ...</td>\n      <td>3</td>\n    </tr>\n    <tr>\n      <th>10</th>\n      <td>Dos encuestados seÃ±alaron que no existe un or...</td>\n      <td>3</td>\n    </tr>\n    <tr>\n      <th>26</th>\n      <td>También promueve mejoras en la prevención, el ...</td>\n      <td>3</td>\n    </tr>\n    <tr>\n      <th>30</th>\n      <td>La falta de programas completos de acreditació...</td>\n      <td>3</td>\n    </tr>\n    <tr>\n      <th>46</th>\n      <td>Dado el aumento de enfermedades crónicas como ...</td>\n      <td>3</td>\n    </tr>\n    <tr>\n      <th>...</th>\n      <td>...</td>\n      <td>...</td>\n    </tr>\n    <tr>\n      <th>2984</th>\n      <td>Las actividades empresariales siguen viéndose ...</td>\n      <td>5</td>\n    </tr>\n    <tr>\n      <th>2990</th>\n      <td>La Agenda Nacional de Jordania 2006-15 estable...</td>\n      <td>5</td>\n    </tr>\n    <tr>\n      <th>2991</th>\n      <td>En la mayoría de los países de la CAO, los fun...</td>\n      <td>5</td>\n    </tr>\n    <tr>\n      <th>2996</th>\n      <td>Por el contrario, el porcentaje de hogares en ...</td>\n      <td>5</td>\n    </tr>\n    <tr>\n      <th>2999</th>\n      <td>Esto ha sido reconocido por los comitÃ©s en la...</td>\n      <td>5</td>\n    </tr>\n  </tbody>\n</table>\n<p>254 rows × 2 columns</p>\n</div>"
     },
     "execution_count": 671,
     "metadata": {},
     "output_type": "execute_result"
    }
   ],
   "source": [
    "df_ods[df_ods['Textos_espanol'].str.contains('Ã')]"
   ]
  },
  {
   "cell_type": "code",
   "execution_count": 672,
   "metadata": {
    "id": "gBxOPmTXGqv2",
    "ExecuteTime": {
     "end_time": "2023-10-16T02:09:41.764683Z",
     "start_time": "2023-10-16T02:09:41.680338Z"
    }
   },
   "outputs": [],
   "source": [
    "# Remplaza los caracteres erroneos con su equivalencia pero en UTF-8\n",
    "df_ods['Textos_espanol'] = df_ods['Textos_espanol'].str.replace('Ã¡', 'á')\n",
    "df_ods['Textos_espanol'] = df_ods['Textos_espanol'].str.replace('Ã©', 'é')\n",
    "df_ods['Textos_espanol'] = df_ods['Textos_espanol'].str.replace('Ã³', 'ó')\n",
    "df_ods['Textos_espanol'] = df_ods['Textos_espanol'].str.replace('Ãº', 'ú')\n",
    "df_ods['Textos_espanol'] = df_ods['Textos_espanol'].str.replace('Ã±', 'ñ')\n",
    "df_ods['Textos_espanol'] = df_ods['Textos_espanol'].str.replace('Ã', 'í')"
   ]
  },
  {
   "cell_type": "code",
   "execution_count": 673,
   "metadata": {
    "colab": {
     "base_uri": "https://localhost:8080/",
     "height": 53
    },
    "id": "Wi_Eg6Z-JnQ_",
    "outputId": "a9eab142-6ba8-4dfb-a13b-fc61ce955d14",
    "ExecuteTime": {
     "end_time": "2023-10-16T02:09:42.862304Z",
     "start_time": "2023-10-16T02:09:42.817137Z"
    }
   },
   "outputs": [
    {
     "data": {
      "text/plain": "Empty DataFrame\nColumns: [Textos_espanol, sdg]\nIndex: []",
      "text/html": "<div>\n<style scoped>\n    .dataframe tbody tr th:only-of-type {\n        vertical-align: middle;\n    }\n\n    .dataframe tbody tr th {\n        vertical-align: top;\n    }\n\n    .dataframe thead th {\n        text-align: right;\n    }\n</style>\n<table border=\"1\" class=\"dataframe\">\n  <thead>\n    <tr style=\"text-align: right;\">\n      <th></th>\n      <th>Textos_espanol</th>\n      <th>sdg</th>\n    </tr>\n  </thead>\n  <tbody>\n  </tbody>\n</table>\n</div>"
     },
     "execution_count": 673,
     "metadata": {},
     "output_type": "execute_result"
    }
   ],
   "source": [
    "df_ods[df_ods['Textos_espanol'].str.contains('Ã')]"
   ]
  },
  {
   "cell_type": "code",
   "execution_count": 674,
   "metadata": {
    "colab": {
     "base_uri": "https://localhost:8080/",
     "height": 363
    },
    "id": "qfK4mZVIJnaa",
    "outputId": "036d2a49-0adf-44f5-fa83-4b818d7a7806",
    "ExecuteTime": {
     "end_time": "2023-10-16T02:09:43.641430Z",
     "start_time": "2023-10-16T02:09:43.582838Z"
    }
   },
   "outputs": [
    {
     "data": {
      "text/plain": "                                         Textos_espanol  sdg\n2862  Este refuerzo de la coordinación interna no só...    5\n1264  Es necesario hacer mayor hincapié en las compe...    4\n1284  Los análisis basados ​​en los casos de otros p...    4\n1426  En 2016, las tasas de matriculación entre los ...    4\n1144  El nivel de educación terciaria en Polonia tam...    4\n2253  Esta disposición debería aumentar el número de...    5\n1370  Esta cooperación entre la asignatura y los pro...    4\n1127  Los paquetes se revisan regularmente a través ...    4\n2881  Además, los países pueden considerar hacer que...    5\n2480  Este capítulo busca proporcionar contexto y pe...    5",
      "text/html": "<div>\n<style scoped>\n    .dataframe tbody tr th:only-of-type {\n        vertical-align: middle;\n    }\n\n    .dataframe tbody tr th {\n        vertical-align: top;\n    }\n\n    .dataframe thead th {\n        text-align: right;\n    }\n</style>\n<table border=\"1\" class=\"dataframe\">\n  <thead>\n    <tr style=\"text-align: right;\">\n      <th></th>\n      <th>Textos_espanol</th>\n      <th>sdg</th>\n    </tr>\n  </thead>\n  <tbody>\n    <tr>\n      <th>2862</th>\n      <td>Este refuerzo de la coordinación interna no só...</td>\n      <td>5</td>\n    </tr>\n    <tr>\n      <th>1264</th>\n      <td>Es necesario hacer mayor hincapié en las compe...</td>\n      <td>4</td>\n    </tr>\n    <tr>\n      <th>1284</th>\n      <td>Los análisis basados ​​en los casos de otros p...</td>\n      <td>4</td>\n    </tr>\n    <tr>\n      <th>1426</th>\n      <td>En 2016, las tasas de matriculación entre los ...</td>\n      <td>4</td>\n    </tr>\n    <tr>\n      <th>1144</th>\n      <td>El nivel de educación terciaria en Polonia tam...</td>\n      <td>4</td>\n    </tr>\n    <tr>\n      <th>2253</th>\n      <td>Esta disposición debería aumentar el número de...</td>\n      <td>5</td>\n    </tr>\n    <tr>\n      <th>1370</th>\n      <td>Esta cooperación entre la asignatura y los pro...</td>\n      <td>4</td>\n    </tr>\n    <tr>\n      <th>1127</th>\n      <td>Los paquetes se revisan regularmente a través ...</td>\n      <td>4</td>\n    </tr>\n    <tr>\n      <th>2881</th>\n      <td>Además, los países pueden considerar hacer que...</td>\n      <td>5</td>\n    </tr>\n    <tr>\n      <th>2480</th>\n      <td>Este capítulo busca proporcionar contexto y pe...</td>\n      <td>5</td>\n    </tr>\n  </tbody>\n</table>\n</div>"
     },
     "execution_count": 674,
     "metadata": {},
     "output_type": "execute_result"
    }
   ],
   "source": [
    "df_ods.sample(10)"
   ]
  },
  {
   "cell_type": "markdown",
   "metadata": {
    "id": "VV7A-iRhzuFe"
   },
   "source": [
    "### 1.5 Transformacion"
   ]
  },
  {
   "cell_type": "code",
   "execution_count": 675,
   "metadata": {
    "id": "QBC2sNaj0o6-",
    "ExecuteTime": {
     "end_time": "2023-10-16T02:09:45.264963Z",
     "start_time": "2023-10-16T02:09:45.198395Z"
    }
   },
   "outputs": [],
   "source": [
    "# Se dividen los datos para entrenamiento y prueba\n",
    "X_train, X_test, y_train, y_test = train_test_split(df_ods[\"Textos_espanol\"], df_ods[\"sdg\"], test_size=0.3, stratify=df_ods[\"sdg\"], random_state=1)"
   ]
  },
  {
   "cell_type": "code",
   "execution_count": 676,
   "metadata": {
    "colab": {
     "base_uri": "https://localhost:8080/"
    },
    "id": "voSRAhWn17NG",
    "outputId": "1ca4c9aa-50ec-4742-d8e1-285027db9a4e",
    "ExecuteTime": {
     "end_time": "2023-10-16T02:09:46.034453Z",
     "start_time": "2023-10-16T02:09:45.984970Z"
    }
   },
   "outputs": [
    {
     "data": {
      "text/plain": "((2100,), (900,))"
     },
     "execution_count": 676,
     "metadata": {},
     "output_type": "execute_result"
    }
   ],
   "source": [
    "X_train.shape, X_test.shape"
   ]
  },
  {
   "cell_type": "code",
   "execution_count": 677,
   "metadata": {
    "colab": {
     "base_uri": "https://localhost:8080/"
    },
    "id": "V4u-znhD18E0",
    "outputId": "3a32174b-7d5b-4aec-b154-966178c47c56",
    "ExecuteTime": {
     "end_time": "2023-10-16T02:09:46.763921Z",
     "start_time": "2023-10-16T02:09:46.696734Z"
    }
   },
   "outputs": [
    {
     "data": {
      "text/plain": "sdg\n4    0.333333\n3    0.333333\n5    0.333333\nName: proportion, dtype: float64"
     },
     "execution_count": 677,
     "metadata": {},
     "output_type": "execute_result"
    }
   ],
   "source": [
    "pd.Series(y_train).value_counts(normalize=True)"
   ]
  },
  {
   "cell_type": "code",
   "execution_count": 678,
   "metadata": {
    "colab": {
     "base_uri": "https://localhost:8080/"
    },
    "id": "P13mqnXP1-Rj",
    "outputId": "0c9916ff-f596-4557-a981-c13dfac0cbaf",
    "ExecuteTime": {
     "end_time": "2023-10-16T02:09:47.402848Z",
     "start_time": "2023-10-16T02:09:47.357670Z"
    }
   },
   "outputs": [
    {
     "data": {
      "text/plain": "sdg\n3    0.333333\n4    0.333333\n5    0.333333\nName: proportion, dtype: float64"
     },
     "execution_count": 678,
     "metadata": {},
     "output_type": "execute_result"
    }
   ],
   "source": [
    "pd.Series(y_test).value_counts(normalize=True)"
   ]
  },
  {
   "cell_type": "code",
   "execution_count": 679,
   "metadata": {
    "id": "vFfbSRXa4HWw",
    "ExecuteTime": {
     "end_time": "2023-10-16T02:09:48.058333Z",
     "start_time": "2023-10-16T02:09:48.009981Z"
    }
   },
   "outputs": [],
   "source": [
    "bow = CountVectorizer(tokenizer=word_tokenize, stop_words=stop_words, lowercase=True)"
   ]
  },
  {
   "cell_type": "code",
   "execution_count": 680,
   "metadata": {
    "id": "H0fJddNd4LRg",
    "ExecuteTime": {
     "end_time": "2023-10-16T02:09:50.185024Z",
     "start_time": "2023-10-16T02:09:48.663961Z"
    }
   },
   "outputs": [],
   "source": [
    "X_bow = bow.fit_transform(X_train)"
   ]
  },
  {
   "cell_type": "code",
   "execution_count": 681,
   "metadata": {
    "colab": {
     "base_uri": "https://localhost:8080/"
    },
    "id": "3QBPF-Rs4LUe",
    "outputId": "82f0ee10-4aaf-49d8-ce9b-bd654ae3ffdc",
    "ExecuteTime": {
     "end_time": "2023-10-16T02:09:50.193917Z",
     "start_time": "2023-10-16T02:09:50.187481Z"
    }
   },
   "outputs": [
    {
     "name": "stdout",
     "output_type": "stream",
     "text": [
      "Vocabulary size: 15134\n"
     ]
    }
   ],
   "source": [
    "print(\"Vocabulary size:\", len(bow.vocabulary_))"
   ]
  },
  {
   "cell_type": "markdown",
   "metadata": {
    "id": "MAxntBpyytvF"
   },
   "source": [
    "## 2. Modelado y evaluacion"
   ]
  },
  {
   "cell_type": "markdown",
   "metadata": {
    "id": "NDyZBuqDRg81"
   },
   "source": [
    "### 2.1 Entrenando Modelo con BoW y Random Forest classifier (Juan Sebastian Sanchez Delgado)"
   ]
  },
  {
   "cell_type": "code",
   "execution_count": 682,
   "metadata": {
    "id": "rWLJ7JxnzM07",
    "ExecuteTime": {
     "end_time": "2023-10-16T02:09:52.214039Z",
     "start_time": "2023-10-16T02:09:52.156903Z"
    }
   },
   "outputs": [],
   "source": [
    "bow_model = RandomForestClassifier(random_state=2)"
   ]
  },
  {
   "cell_type": "code",
   "execution_count": 683,
   "metadata": {
    "colab": {
     "base_uri": "https://localhost:8080/",
     "height": 75
    },
    "id": "zL-qOKBp5laL",
    "outputId": "864cb117-e3e0-47a4-aa08-59822f0b0126",
    "ExecuteTime": {
     "end_time": "2023-10-16T02:09:53.622180Z",
     "start_time": "2023-10-16T02:09:52.733420Z"
    }
   },
   "outputs": [
    {
     "data": {
      "text/plain": "RandomForestClassifier(random_state=2)"
     },
     "execution_count": 683,
     "metadata": {},
     "output_type": "execute_result"
    }
   ],
   "source": [
    "bow_model.fit(X_bow, y_train)"
   ]
  },
  {
   "cell_type": "code",
   "execution_count": 684,
   "metadata": {
    "colab": {
     "base_uri": "https://localhost:8080/",
     "height": 556
    },
    "id": "CGELXhhz5wIY",
    "outputId": "e46d7132-8813-4b07-a2ab-b0d2eba3d539",
    "ExecuteTime": {
     "end_time": "2023-10-16T02:09:54.078731Z",
     "start_time": "2023-10-16T02:09:53.618722Z"
    }
   },
   "outputs": [
    {
     "data": {
      "text/plain": "<Axes: >"
     },
     "execution_count": 684,
     "metadata": {},
     "output_type": "execute_result"
    },
    {
     "data": {
      "text/plain": "<Figure size 1500x800 with 1 Axes>",
      "image/png": "[encoded data removed]"
     },
     "metadata": {},
     "output_type": "display_data"
    }
   ],
   "source": [
    "# Se muestra la importancia de algunas palabras para determinar que tan relevante es para tomar una decision para el modelo\n",
    "pd.Series(bow_model.feature_importances_, index=bow.vocabulary_).sort_values().tail(20).plot.barh(figsize=(15, 8))"
   ]
  },
  {
   "cell_type": "code",
   "execution_count": 685,
   "metadata": {
    "colab": {
     "base_uri": "https://localhost:8080/"
    },
    "id": "L2-Fnvi66l-r",
    "outputId": "21b049ba-b617-4b35-e315-d35baf7736d4",
    "ExecuteTime": {
     "end_time": "2023-10-16T02:09:54.932172Z",
     "start_time": "2023-10-16T02:09:54.887402Z"
    }
   },
   "outputs": [
    {
     "name": "stdout",
     "output_type": "stream",
     "text": [
      "Numero de arboles de decision: 100\n",
      "Profundidad de los arboles (mean): 97.14\n"
     ]
    }
   ],
   "source": [
    "bow_estimators = bow_model.estimators_\n",
    "print(\"Numero de arboles de decision:\", len(bow_estimators))\n",
    "print(\"Profundidad de los arboles (mean):\", np.mean([tree.get_depth() for tree in bow_estimators]))"
   ]
  },
  {
   "cell_type": "code",
   "execution_count": 686,
   "metadata": {
    "id": "CjGea2Y46sqQ",
    "ExecuteTime": {
     "end_time": "2023-10-16T02:09:56.453052Z",
     "start_time": "2023-10-16T02:09:55.617036Z"
    }
   },
   "outputs": [],
   "source": [
    "y_train_bow_predict = bow_model.predict(X_bow)\n",
    "y_test_bow_predict = bow_model.predict(bow.transform(X_test))"
   ]
  },
  {
   "cell_type": "code",
   "execution_count": 687,
   "metadata": {
    "colab": {
     "base_uri": "https://localhost:8080/",
     "height": 473
    },
    "id": "Aa0CI6s_7Dp1",
    "outputId": "082cd932-5b6a-4e41-e1f8-6a501917236d",
    "ExecuteTime": {
     "end_time": "2023-10-16T02:09:56.738638Z",
     "start_time": "2023-10-16T02:09:56.454667Z"
    }
   },
   "outputs": [
    {
     "data": {
      "text/plain": "<sklearn.metrics._plot.confusion_matrix.ConfusionMatrixDisplay at 0x7fc316132310>"
     },
     "execution_count": 687,
     "metadata": {},
     "output_type": "execute_result"
    },
    {
     "data": {
      "text/plain": "<Figure size 640x480 with 2 Axes>",
      "image/png": "[encoded data removed]"
     },
     "metadata": {},
     "output_type": "display_data"
    }
   ],
   "source": [
    "ConfusionMatrixDisplay.from_predictions(y_train, y_train_bow_predict)"
   ]
  },
  {
   "cell_type": "code",
   "execution_count": 688,
   "metadata": {
    "colab": {
     "base_uri": "https://localhost:8080/",
     "height": 467
    },
    "id": "YoyIVh7s7Qbu",
    "outputId": "5c3b3777-aefb-474f-9d06-3594ea546737",
    "ExecuteTime": {
     "end_time": "2023-10-16T02:09:58.383886Z",
     "start_time": "2023-10-16T02:09:58.119665Z"
    }
   },
   "outputs": [
    {
     "data": {
      "text/plain": "<sklearn.metrics._plot.confusion_matrix.ConfusionMatrixDisplay at 0x7fc31885b2b0>"
     },
     "execution_count": 688,
     "metadata": {},
     "output_type": "execute_result"
    },
    {
     "data": {
      "text/plain": "<Figure size 640x480 with 2 Axes>",
      "image/png": "[encoded data removed]"
     },
     "metadata": {},
     "output_type": "display_data"
    }
   ],
   "source": [
    "ConfusionMatrixDisplay.from_predictions(y_test, y_test_bow_predict)"
   ]
  },
  {
   "cell_type": "code",
   "execution_count": 689,
   "metadata": {
    "colab": {
     "base_uri": "https://localhost:8080/"
    },
    "id": "RLlg0KN_7ZiK",
    "outputId": "a4e9847e-b03e-4da6-91f0-14e8f16bc37f",
    "ExecuteTime": {
     "end_time": "2023-10-16T02:09:59.215469Z",
     "start_time": "2023-10-16T02:09:59.155780Z"
    }
   },
   "outputs": [
    {
     "name": "stdout",
     "output_type": "stream",
     "text": [
      "Precision: 1.0\n",
      "Recall: 1.0\n",
      "F1: 1.0\n"
     ]
    }
   ],
   "source": [
    "print(\"Precision:\", precision_score(y_train, y_train_bow_predict, average='micro'))\n",
    "print(\"Recall:\", recall_score(y_train, y_train_bow_predict, average='micro'))\n",
    "print(\"F1:\", f1_score(y_train, y_train_bow_predict, average='micro'))"
   ]
  },
  {
   "cell_type": "code",
   "execution_count": 690,
   "metadata": {
    "colab": {
     "base_uri": "https://localhost:8080/"
    },
    "id": "kHRi-7cd7kSJ",
    "outputId": "e3212d0a-91f6-44c5-ab07-4a831c484eda",
    "ExecuteTime": {
     "end_time": "2023-10-16T02:10:00.156951Z",
     "start_time": "2023-10-16T02:10:00.093986Z"
    }
   },
   "outputs": [
    {
     "name": "stdout",
     "output_type": "stream",
     "text": [
      "Precision: 0.9766666666666667\n",
      "Recall: 0.9766666666666667\n",
      "F1: 0.9766666666666667\n"
     ]
    }
   ],
   "source": [
    "print(\"Precision:\", precision_score(y_test, y_test_bow_predict, average='micro' ))\n",
    "print(\"Recall:\", recall_score(y_test, y_test_bow_predict, average='micro'))\n",
    "print(\"F1:\", f1_score(y_test, y_test_bow_predict, average='micro'))"
   ]
  },
  {
   "cell_type": "markdown",
   "metadata": {
    "id": "6C9Jt1DD0JfD"
   },
   "source": [
    "### 2.2 Entrenando modelo con TF-IDF (Santiago Paeres Gonzalez)"
   ]
  },
  {
   "cell_type": "code",
   "execution_count": 691,
   "outputs": [],
   "source": [
    "tfidf = TfidfVectorizer(tokenizer=word_tokenize, stop_words=stop_words, lowercase=True)"
   ],
   "metadata": {
    "collapsed": false,
    "ExecuteTime": {
     "end_time": "2023-10-16T02:10:01.823188Z",
     "start_time": "2023-10-16T02:10:01.719541Z"
    }
   }
  },
  {
   "cell_type": "code",
   "execution_count": 692,
   "outputs": [],
   "source": [
    "X_tfidf = tfidf.fit_transform(X_train)"
   ],
   "metadata": {
    "collapsed": false,
    "ExecuteTime": {
     "end_time": "2023-10-16T02:10:04.610687Z",
     "start_time": "2023-10-16T02:10:02.549475Z"
    }
   }
  },
  {
   "cell_type": "code",
   "execution_count": 693,
   "outputs": [
    {
     "name": "stdout",
     "output_type": "stream",
     "text": [
      "Vocabulary size: 15134\n"
     ]
    }
   ],
   "source": [
    "print(\"Vocabulary size:\", len(tfidf.vocabulary_))"
   ],
   "metadata": {
    "collapsed": false,
    "ExecuteTime": {
     "end_time": "2023-10-16T02:10:04.621903Z",
     "start_time": "2023-10-16T02:10:04.613240Z"
    }
   }
  },
  {
   "cell_type": "code",
   "execution_count": 694,
   "outputs": [
    {
     "data": {
      "text/plain": "      !    #    $         %    &    '        ''  'barómetro  'club  \\\n0   0.0  0.0  0.0  0.000000  0.0  0.0  0.000000         0.0    0.0   \n1   0.0  0.0  0.0  0.000000  0.0  0.0  0.000000         0.0    0.0   \n2   0.0  0.0  0.0  0.000000  0.0  0.0  0.000000         0.0    0.0   \n3   0.0  0.0  0.0  0.000000  0.0  0.0  0.000000         0.0    0.0   \n4   0.0  0.0  0.0  0.000000  0.0  0.0  0.000000         0.0    0.0   \n..  ...  ...  ...       ...  ...  ...       ...         ...    ...   \n95  0.0  0.0  0.0  0.000000  0.0  0.0  0.000000         0.0    0.0   \n96  0.0  0.0  0.0  0.090918  0.0  0.0  0.000000         0.0    0.0   \n97  0.0  0.0  0.0  0.000000  0.0  0.0  0.058743         0.0    0.0   \n98  0.0  0.0  0.0  0.000000  0.0  0.0  0.000000         0.0    0.0   \n99  0.0  0.0  0.0  0.000000  0.0  0.0  0.000000         0.0    0.0   \n\n    'conocimiento  ...  .las    /  \\\n0             0.0  ...   0.0  0.0   \n1             0.0  ...   0.0  0.0   \n2             0.0  ...   0.0  0.0   \n3             0.0  ...   0.0  0.0   \n4             0.0  ...   0.0  0.0   \n..            ...  ...   ...  ...   \n95            0.0  ...   0.0  0.0   \n96            0.0  ...   0.0  0.0   \n97            0.0  ...   0.0  0.0   \n98            0.0  ...   0.0  0.0   \n99            0.0  ...   0.0  0.0   \n\n    //assets.publishing.service.gov.uk/media/57a08abaed915d3cfd0008e0/birdthistle  \\\n0                                                 0.0                               \n1                                                 0.0                               \n2                                                 0.0                               \n3                                                 0.0                               \n4                                                 0.0                               \n..                                                ...                               \n95                                                0.0                               \n96                                                0.0                               \n97                                                0.0                               \n98                                                0.0                               \n99                                                0.0                               \n\n    //data.uis.unesco.org/l  //sdg4monitoring.uis.unesco.org  //timss.bc.edu  \\\n0                       0.0                              0.0             0.0   \n1                       0.0                              0.0             0.0   \n2                       0.0                              0.0             0.0   \n3                       0.0                              0.0             0.0   \n4                       0.0                              0.0             0.0   \n..                      ...                              ...             ...   \n95                      0.0                              0.0             0.0   \n96                      0.0                              0.0             0.0   \n97                      0.0                              0.0             0.0   \n98                      0.0                              0.0             0.0   \n99                      0.0                              0.0             0.0   \n\n    //www  //www.oecd.org/dev/wp  //www.ofsted.gov.uk/about-us  \\\n0     0.0                    0.0                           0.0   \n1     0.0                    0.0                           0.0   \n2     0.0                    0.0                           0.0   \n3     0.0                    0.0                           0.0   \n4     0.0                    0.0                           0.0   \n..    ...                    ...                           ...   \n95    0.0                    0.0                           0.0   \n96    0.0                    0.0                           0.0   \n97    0.0                    0.0                           0.0   \n98    0.0                    0.0                           0.0   \n99    0.0                    0.0                           0.0   \n\n    //www.wcl.american.edu/faculty/flynn/  \n0                                     0.0  \n1                                     0.0  \n2                                     0.0  \n3                                     0.0  \n4                                     0.0  \n..                                    ...  \n95                                    0.0  \n96                                    0.0  \n97                                    0.0  \n98                                    0.0  \n99                                    0.0  \n\n[100 rows x 100 columns]",
      "text/html": "<div>\n<style scoped>\n    .dataframe tbody tr th:only-of-type {\n        vertical-align: middle;\n    }\n\n    .dataframe tbody tr th {\n        vertical-align: top;\n    }\n\n    .dataframe thead th {\n        text-align: right;\n    }\n</style>\n<table border=\"1\" class=\"dataframe\">\n  <thead>\n    <tr style=\"text-align: right;\">\n      <th></th>\n      <th>!</th>\n      <th>#</th>\n      <th>$</th>\n      <th>%</th>\n      <th>&amp;</th>\n      <th>'</th>\n      <th>''</th>\n      <th>'barómetro</th>\n      <th>'club</th>\n      <th>'conocimiento</th>\n      <th>...</th>\n      <th>.las</th>\n      <th>/</th>\n      <th>//assets.publishing.service.gov.uk/media/57a08abaed915d3cfd0008e0/birdthistle</th>\n      <th>//data.uis.unesco.org/l</th>\n      <th>//sdg4monitoring.uis.unesco.org</th>\n      <th>//timss.bc.edu</th>\n      <th>//www</th>\n      <th>//www.oecd.org/dev/wp</th>\n      <th>//www.ofsted.gov.uk/about-us</th>\n      <th>//www.wcl.american.edu/faculty/flynn/</th>\n    </tr>\n  </thead>\n  <tbody>\n    <tr>\n      <th>0</th>\n      <td>0.0</td>\n      <td>0.0</td>\n      <td>0.0</td>\n      <td>0.000000</td>\n      <td>0.0</td>\n      <td>0.0</td>\n      <td>0.000000</td>\n      <td>0.0</td>\n      <td>0.0</td>\n      <td>0.0</td>\n      <td>...</td>\n      <td>0.0</td>\n      <td>0.0</td>\n      <td>0.0</td>\n      <td>0.0</td>\n      <td>0.0</td>\n      <td>0.0</td>\n      <td>0.0</td>\n      <td>0.0</td>\n      <td>0.0</td>\n      <td>0.0</td>\n    </tr>\n    <tr>\n      <th>1</th>\n      <td>0.0</td>\n      <td>0.0</td>\n      <td>0.0</td>\n      <td>0.000000</td>\n      <td>0.0</td>\n      <td>0.0</td>\n      <td>0.000000</td>\n      <td>0.0</td>\n      <td>0.0</td>\n      <td>0.0</td>\n      <td>...</td>\n      <td>0.0</td>\n      <td>0.0</td>\n      <td>0.0</td>\n      <td>0.0</td>\n      <td>0.0</td>\n      <td>0.0</td>\n      <td>0.0</td>\n      <td>0.0</td>\n      <td>0.0</td>\n      <td>0.0</td>\n    </tr>\n    <tr>\n      <th>2</th>\n      <td>0.0</td>\n      <td>0.0</td>\n      <td>0.0</td>\n      <td>0.000000</td>\n      <td>0.0</td>\n      <td>0.0</td>\n      <td>0.000000</td>\n      <td>0.0</td>\n      <td>0.0</td>\n      <td>0.0</td>\n      <td>...</td>\n      <td>0.0</td>\n      <td>0.0</td>\n      <td>0.0</td>\n      <td>0.0</td>\n      <td>0.0</td>\n      <td>0.0</td>\n      <td>0.0</td>\n      <td>0.0</td>\n      <td>0.0</td>\n      <td>0.0</td>\n    </tr>\n    <tr>\n      <th>3</th>\n      <td>0.0</td>\n      <td>0.0</td>\n      <td>0.0</td>\n      <td>0.000000</td>\n      <td>0.0</td>\n      <td>0.0</td>\n      <td>0.000000</td>\n      <td>0.0</td>\n      <td>0.0</td>\n      <td>0.0</td>\n      <td>...</td>\n      <td>0.0</td>\n      <td>0.0</td>\n      <td>0.0</td>\n      <td>0.0</td>\n      <td>0.0</td>\n      <td>0.0</td>\n      <td>0.0</td>\n      <td>0.0</td>\n      <td>0.0</td>\n      <td>0.0</td>\n    </tr>\n    <tr>\n      <th>4</th>\n      <td>0.0</td>\n      <td>0.0</td>\n      <td>0.0</td>\n      <td>0.000000</td>\n      <td>0.0</td>\n      <td>0.0</td>\n      <td>0.000000</td>\n      <td>0.0</td>\n      <td>0.0</td>\n      <td>0.0</td>\n      <td>...</td>\n      <td>0.0</td>\n      <td>0.0</td>\n      <td>0.0</td>\n      <td>0.0</td>\n      <td>0.0</td>\n      <td>0.0</td>\n      <td>0.0</td>\n      <td>0.0</td>\n      <td>0.0</td>\n      <td>0.0</td>\n    </tr>\n    <tr>\n      <th>...</th>\n      <td>...</td>\n      <td>...</td>\n      <td>...</td>\n      <td>...</td>\n      <td>...</td>\n      <td>...</td>\n      <td>...</td>\n      <td>...</td>\n      <td>...</td>\n      <td>...</td>\n      <td>...</td>\n      <td>...</td>\n      <td>...</td>\n      <td>...</td>\n      <td>...</td>\n      <td>...</td>\n      <td>...</td>\n      <td>...</td>\n      <td>...</td>\n      <td>...</td>\n      <td>...</td>\n    </tr>\n    <tr>\n      <th>95</th>\n      <td>0.0</td>\n      <td>0.0</td>\n      <td>0.0</td>\n      <td>0.000000</td>\n      <td>0.0</td>\n      <td>0.0</td>\n      <td>0.000000</td>\n      <td>0.0</td>\n      <td>0.0</td>\n      <td>0.0</td>\n      <td>...</td>\n      <td>0.0</td>\n      <td>0.0</td>\n      <td>0.0</td>\n      <td>0.0</td>\n      <td>0.0</td>\n      <td>0.0</td>\n      <td>0.0</td>\n      <td>0.0</td>\n      <td>0.0</td>\n      <td>0.0</td>\n    </tr>\n    <tr>\n      <th>96</th>\n      <td>0.0</td>\n      <td>0.0</td>\n      <td>0.0</td>\n      <td>0.090918</td>\n      <td>0.0</td>\n      <td>0.0</td>\n      <td>0.000000</td>\n      <td>0.0</td>\n      <td>0.0</td>\n      <td>0.0</td>\n      <td>...</td>\n      <td>0.0</td>\n      <td>0.0</td>\n      <td>0.0</td>\n      <td>0.0</td>\n      <td>0.0</td>\n      <td>0.0</td>\n      <td>0.0</td>\n      <td>0.0</td>\n      <td>0.0</td>\n      <td>0.0</td>\n    </tr>\n    <tr>\n      <th>97</th>\n      <td>0.0</td>\n      <td>0.0</td>\n      <td>0.0</td>\n      <td>0.000000</td>\n      <td>0.0</td>\n      <td>0.0</td>\n      <td>0.058743</td>\n      <td>0.0</td>\n      <td>0.0</td>\n      <td>0.0</td>\n      <td>...</td>\n      <td>0.0</td>\n      <td>0.0</td>\n      <td>0.0</td>\n      <td>0.0</td>\n      <td>0.0</td>\n      <td>0.0</td>\n      <td>0.0</td>\n      <td>0.0</td>\n      <td>0.0</td>\n      <td>0.0</td>\n    </tr>\n    <tr>\n      <th>98</th>\n      <td>0.0</td>\n      <td>0.0</td>\n      <td>0.0</td>\n      <td>0.000000</td>\n      <td>0.0</td>\n      <td>0.0</td>\n      <td>0.000000</td>\n      <td>0.0</td>\n      <td>0.0</td>\n      <td>0.0</td>\n      <td>...</td>\n      <td>0.0</td>\n      <td>0.0</td>\n      <td>0.0</td>\n      <td>0.0</td>\n      <td>0.0</td>\n      <td>0.0</td>\n      <td>0.0</td>\n      <td>0.0</td>\n      <td>0.0</td>\n      <td>0.0</td>\n    </tr>\n    <tr>\n      <th>99</th>\n      <td>0.0</td>\n      <td>0.0</td>\n      <td>0.0</td>\n      <td>0.000000</td>\n      <td>0.0</td>\n      <td>0.0</td>\n      <td>0.000000</td>\n      <td>0.0</td>\n      <td>0.0</td>\n      <td>0.0</td>\n      <td>...</td>\n      <td>0.0</td>\n      <td>0.0</td>\n      <td>0.0</td>\n      <td>0.0</td>\n      <td>0.0</td>\n      <td>0.0</td>\n      <td>0.0</td>\n      <td>0.0</td>\n      <td>0.0</td>\n      <td>0.0</td>\n    </tr>\n  </tbody>\n</table>\n<p>100 rows × 100 columns</p>\n</div>"
     },
     "execution_count": 694,
     "metadata": {},
     "output_type": "execute_result"
    }
   ],
   "source": [
    "# Obtén una porción limitada de la matriz X_tfidf\n",
    "filas_a_mostrar = 100\n",
    "columnas_a_mostrar = 100\n",
    "ejemplo = X_tfidf[:filas_a_mostrar, :columnas_a_mostrar]\n",
    "# Convierte la porción Limitada en un DataFrame de Pandas para una mejor visualización\n",
    "df_ejemplo = pd.DataFrame (ejemplo.toarray(), columns=tfidf.get_feature_names_out ()[:columnas_a_mostrar])\n",
    "df_ejemplo"
   ],
   "metadata": {
    "collapsed": false,
    "ExecuteTime": {
     "end_time": "2023-10-16T02:10:05.882539Z",
     "start_time": "2023-10-16T02:10:05.807104Z"
    }
   }
  },
  {
   "cell_type": "code",
   "execution_count": 695,
   "metadata": {
    "collapsed": false,
    "ExecuteTime": {
     "end_time": "2023-10-16T02:10:07.629343Z",
     "start_time": "2023-10-16T02:10:07.544880Z"
    }
   },
   "outputs": [],
   "source": [
    "tfidf_model = RandomForestClassifier(random_state=2)"
   ]
  },
  {
   "cell_type": "code",
   "execution_count": 696,
   "metadata": {
    "collapsed": false,
    "ExecuteTime": {
     "end_time": "2023-10-16T02:10:09.849818Z",
     "start_time": "2023-10-16T02:10:08.575956Z"
    }
   },
   "outputs": [
    {
     "data": {
      "text/plain": "RandomForestClassifier(random_state=2)"
     },
     "execution_count": 696,
     "metadata": {},
     "output_type": "execute_result"
    }
   ],
   "source": [
    "tfidf_model.fit(X_tfidf, y_train)"
   ]
  },
  {
   "cell_type": "code",
   "execution_count": 697,
   "metadata": {
    "collapsed": false,
    "ExecuteTime": {
     "end_time": "2023-10-16T02:10:11.611727Z",
     "start_time": "2023-10-16T02:10:10.653865Z"
    }
   },
   "outputs": [
    {
     "data": {
      "text/plain": "<Axes: >"
     },
     "execution_count": 697,
     "metadata": {},
     "output_type": "execute_result"
    },
    {
     "data": {
      "text/plain": "<Figure size 1500x1000 with 1 Axes>",
      "image/png": "[encoded data removed]"
     },
     "metadata": {},
     "output_type": "display_data"
    }
   ],
   "source": [
    "pd.Series(tfidf_model.feature_importances_, index=tfidf.vocabulary_).sort_values().tail(20).plot.barh(figsize=(15, 10))"
   ]
  },
  {
   "cell_type": "code",
   "execution_count": 698,
   "metadata": {
    "collapsed": false,
    "ExecuteTime": {
     "end_time": "2023-10-16T02:10:13.213366Z",
     "start_time": "2023-10-16T02:10:13.149545Z"
    }
   },
   "outputs": [
    {
     "name": "stdout",
     "output_type": "stream",
     "text": [
      "Number of trees: 100\n",
      "Trees depth (mean): 94.37\n"
     ]
    }
   ],
   "source": [
    "tfidf_estimators = tfidf_model.estimators_\n",
    "print(\"Number of trees:\", len(tfidf_estimators))\n",
    "print(\"Trees depth (mean):\", np.mean([tree.get_depth() for tree in tfidf_estimators]))"
   ]
  },
  {
   "cell_type": "code",
   "execution_count": 699,
   "metadata": {
    "collapsed": false,
    "ExecuteTime": {
     "end_time": "2023-10-16T02:10:15.504071Z",
     "start_time": "2023-10-16T02:10:14.245802Z"
    }
   },
   "outputs": [],
   "source": [
    "y_train_tfidf_predict = tfidf_model.predict(X_tfidf)\n",
    "y_test_tfidf_predict = tfidf_model.predict(tfidf.transform(X_test))"
   ]
  },
  {
   "cell_type": "code",
   "execution_count": 700,
   "metadata": {
    "collapsed": false,
    "ExecuteTime": {
     "end_time": "2023-10-16T02:10:16.638337Z",
     "start_time": "2023-10-16T02:10:16.249508Z"
    }
   },
   "outputs": [
    {
     "data": {
      "text/plain": "<sklearn.metrics._plot.confusion_matrix.ConfusionMatrixDisplay at 0x7fc2fc743850>"
     },
     "execution_count": 700,
     "metadata": {},
     "output_type": "execute_result"
    },
    {
     "data": {
      "text/plain": "<Figure size 640x480 with 2 Axes>",
      "image/png": "[encoded data removed]"
     },
     "metadata": {},
     "output_type": "display_data"
    }
   ],
   "source": [
    "ConfusionMatrixDisplay.from_predictions(y_train, y_train_tfidf_predict)"
   ]
  },
  {
   "cell_type": "code",
   "execution_count": 701,
   "metadata": {
    "collapsed": false,
    "ExecuteTime": {
     "end_time": "2023-10-16T02:10:18.020632Z",
     "start_time": "2023-10-16T02:10:17.616135Z"
    }
   },
   "outputs": [
    {
     "data": {
      "text/plain": "<sklearn.metrics._plot.confusion_matrix.ConfusionMatrixDisplay at 0x7fc319c13190>"
     },
     "execution_count": 701,
     "metadata": {},
     "output_type": "execute_result"
    },
    {
     "data": {
      "text/plain": "<Figure size 640x480 with 2 Axes>",
      "image/png": "[encoded data removed]"
     },
     "metadata": {},
     "output_type": "display_data"
    }
   ],
   "source": [
    "ConfusionMatrixDisplay.from_predictions(y_test, y_test_tfidf_predict)"
   ]
  },
  {
   "cell_type": "code",
   "execution_count": 702,
   "metadata": {
    "collapsed": false,
    "ExecuteTime": {
     "end_time": "2023-10-16T02:10:19.103361Z",
     "start_time": "2023-10-16T02:10:19.008088Z"
    }
   },
   "outputs": [
    {
     "name": "stdout",
     "output_type": "stream",
     "text": [
      "Precision: 1.0\n",
      "Recall: 1.0\n",
      "F1: 1.0\n"
     ]
    }
   ],
   "source": [
    "print(\"Precision:\", precision_score(y_train, y_train_tfidf_predict, average='micro'))\n",
    "print(\"Recall:\", recall_score(y_train, y_train_tfidf_predict, average='micro'))\n",
    "print(\"F1:\", f1_score(y_train, y_train_tfidf_predict, average='micro'))"
   ]
  },
  {
   "cell_type": "code",
   "execution_count": 703,
   "metadata": {
    "collapsed": false,
    "ExecuteTime": {
     "end_time": "2023-10-16T02:10:20.109833Z",
     "start_time": "2023-10-16T02:10:19.982088Z"
    }
   },
   "outputs": [
    {
     "name": "stdout",
     "output_type": "stream",
     "text": [
      "Precision: 0.98\n",
      "Recall: 0.98\n",
      "F1: 0.98\n"
     ]
    }
   ],
   "source": [
    "print(\"Precision:\", precision_score(y_test, y_test_tfidf_predict, average='micro'))\n",
    "print(\"Recall:\", recall_score(y_test, y_test_tfidf_predict, average='micro'))\n",
    "print(\"F1:\", f1_score(y_test, y_test_tfidf_predict, average='micro'))"
   ]
  },
  {
   "cell_type": "markdown",
   "source": [
    "Se pasa el modelo anteriormente planteado de TF-IDF a un pipeline para poder realizar las predicciones más adelante:"
   ],
   "metadata": {
    "collapsed": false
   }
  },
  {
   "cell_type": "code",
   "execution_count": 704,
   "outputs": [],
   "source": [
    "# Crear el pipeline\n",
    "pipeline_tfidf = Pipeline([\n",
    "    ('tfidf', tfidf),  # Etapa de TF-IDF\n",
    "    ('classifier', tfidf_model)  # Etapa de modelo de clasificación\n",
    "])\n"
   ],
   "metadata": {
    "collapsed": false,
    "ExecuteTime": {
     "end_time": "2023-10-16T02:10:26.325870Z",
     "start_time": "2023-10-16T02:10:26.176679Z"
    }
   }
  },
  {
   "cell_type": "code",
   "execution_count": 705,
   "outputs": [
    {
     "data": {
      "text/plain": "Pipeline(steps=[('tfidf',\n                 TfidfVectorizer(stop_words=['de', 'la', 'que', 'el', 'en', 'y',\n                                             'a', 'los', 'del', 'se', 'las',\n                                             'por', 'un', 'para', 'con', 'no',\n                                             'una', 'su', 'al', 'lo', 'como',\n                                             'más', 'pero', 'sus', 'le', 'ya',\n                                             'o', 'este', 'sí', 'porque', ...],\n                                 tokenizer=<function word_tokenize at 0x7fc348d26700>)),\n                ('classifier', RandomForestClassifier(random_state=2))])"
     },
     "execution_count": 705,
     "metadata": {},
     "output_type": "execute_result"
    }
   ],
   "source": [
    "pipeline_tfidf.fit(X_train, y_train)"
   ],
   "metadata": {
    "collapsed": false,
    "ExecuteTime": {
     "end_time": "2023-10-16T02:10:32.086241Z",
     "start_time": "2023-10-16T02:10:27.487111Z"
    }
   }
  },
  {
   "cell_type": "code",
   "execution_count": 706,
   "outputs": [],
   "source": [
    "y_train_tfidf_predict = tfidf_model.predict(X_tfidf)\n",
    "y_test_tfidf_predict = tfidf_model.predict(tfidf.transform(X_test))"
   ],
   "metadata": {
    "collapsed": false,
    "ExecuteTime": {
     "end_time": "2023-10-16T02:10:36.535361Z",
     "start_time": "2023-10-16T02:10:34.766356Z"
    }
   }
  },
  {
   "cell_type": "code",
   "execution_count": 707,
   "outputs": [
    {
     "data": {
      "text/plain": "<sklearn.metrics._plot.confusion_matrix.ConfusionMatrixDisplay at 0x7fc2fd189100>"
     },
     "execution_count": 707,
     "metadata": {},
     "output_type": "execute_result"
    },
    {
     "data": {
      "text/plain": "<Figure size 640x480 with 2 Axes>",
      "image/png": "[encoded data removed]"
     },
     "metadata": {},
     "output_type": "display_data"
    }
   ],
   "source": [
    "ConfusionMatrixDisplay.from_predictions(y_test, y_test_tfidf_predict)"
   ],
   "metadata": {
    "collapsed": false,
    "ExecuteTime": {
     "end_time": "2023-10-16T02:10:37.147992Z",
     "start_time": "2023-10-16T02:10:36.539316Z"
    }
   }
  },
  {
   "cell_type": "code",
   "execution_count": 708,
   "outputs": [
    {
     "name": "stdout",
     "output_type": "stream",
     "text": [
      "Precision: 0.98\n",
      "Recall: 0.98\n",
      "F1: 0.98\n"
     ]
    }
   ],
   "source": [
    "print(\"Precision:\", precision_score(y_test, y_test_tfidf_predict, average='micro'))\n",
    "print(\"Recall:\", recall_score(y_test, y_test_tfidf_predict, average='micro'))\n",
    "print(\"F1:\", f1_score(y_test, y_test_tfidf_predict, average='micro'))"
   ],
   "metadata": {
    "collapsed": false,
    "ExecuteTime": {
     "end_time": "2023-10-16T02:10:37.148460Z",
     "start_time": "2023-10-16T02:10:37.050153Z"
    }
   }
  },
  {
   "cell_type": "markdown",
   "metadata": {
    "collapsed": false,
    "ExecuteTime": {
     "end_time": "2023-10-15T07:13:55.653123Z",
     "start_time": "2023-10-15T07:13:55.342510Z"
    }
   },
   "source": [
    "#### 2.2.1 Seleccionando un posible mejor modelo"
   ]
  },
  {
   "cell_type": "code",
   "execution_count": 709,
   "metadata": {
    "collapsed": false,
    "ExecuteTime": {
     "end_time": "2023-10-16T02:10:40.543648Z",
     "start_time": "2023-10-16T02:10:40.263508Z"
    }
   },
   "outputs": [],
   "source": [
    "pipeline = Pipeline(steps = [\n",
    "    (\"vectorizer\", CountVectorizer(tokenizer=word_tokenize, stop_words=stop_words, lowercase=True)),\n",
    "    (\"classifier\", RandomForestClassifier(random_state=4))\n",
    "])"
   ]
  },
  {
   "cell_type": "code",
   "execution_count": 489,
   "metadata": {
    "collapsed": false,
    "ExecuteTime": {
     "end_time": "2023-10-16T00:36:53.703576Z",
     "start_time": "2023-10-16T00:36:53.403667Z"
    }
   },
   "outputs": [],
   "source": [
    "param_grid = {\n",
    "    \"vectorizer\": [TfidfVectorizer(max_df=0.5,tokenizer=word_tokenize, stop_words=stop_words)],\n",
    "    \"vectorizer__lowercase\": [True, False],\n",
    "    \"classifier__n_estimators\": [30, 50],\n",
    "    \"classifier__max_depth\": [25, 50]\n",
    "}"
   ]
  },
  {
   "cell_type": "code",
   "execution_count": 76,
   "metadata": {
    "collapsed": false,
    "ExecuteTime": {
     "end_time": "2023-10-15T08:22:08.079399Z",
     "start_time": "2023-10-15T08:22:08.052407Z"
    }
   },
   "outputs": [],
   "source": [
    "search = RandomizedSearchCV(pipeline, param_grid, n_iter=15, scoring=[\"precision\", \"recall\", \"f1\"], refit=\"f1\", cv=30, return_train_score=True, verbose=1, random_state=5)"
   ]
  },
  {
   "cell_type": "code",
   "execution_count": 77,
   "metadata": {
    "collapsed": false,
    "ExecuteTime": {
     "end_time": "2023-10-15T08:33:37.398120Z",
     "start_time": "2023-10-15T08:22:09.235856Z"
    }
   },
   "outputs": [
    {
     "name": "stdout",
     "output_type": "stream",
     "text": [
      "Fitting 30 folds for each of 8 candidates, totalling 240 fits\n"
     ]
    },
    {
     "data": {
      "text/plain": "RandomizedSearchCV(cv=30,\n                   estimator=Pipeline(steps=[('vectorizer',\n                                              CountVectorizer(stop_words=['de',\n                                                                          'la',\n                                                                          'que',\n                                                                          'el',\n                                                                          'en',\n                                                                          'y',\n                                                                          'a',\n                                                                          'los',\n                                                                          'del',\n                                                                          'se',\n                                                                          'las',\n                                                                          'por',\n                                                                          'un',\n                                                                          'para',\n                                                                          'con',\n                                                                          'no',\n                                                                          'una',\n                                                                          'su',\n                                                                          'al',\n                                                                          'lo',\n                                                                          'como',\n                                                                          'más',\n                                                                          'pero',\n                                                                          'sus',\n                                                                          'le',\n                                                                          'ya',\n                                                                          'o',\n                                                                          'este',\n                                                                          'sí',\n                                                                          'porque', ...],\n                                                              tokenizer=<function word_tokenize at 0x7fc348d26700>)),\n                                             ('classifier',\n                                              RandomForestClassi...\n                                                                                   'la',\n                                                                                   'que',\n                                                                                   'el',\n                                                                                   'en',\n                                                                                   'y',\n                                                                                   'a',\n                                                                                   'los',\n                                                                                   'del',\n                                                                                   'se',\n                                                                                   'las',\n                                                                                   'por',\n                                                                                   'un',\n                                                                                   'para',\n                                                                                   'con',\n                                                                                   'no',\n                                                                                   'una',\n                                                                                   'su',\n                                                                                   'al',\n                                                                                   'lo',\n                                                                                   'como',\n                                                                                   'más',\n                                                                                   'pero',\n                                                                                   'sus',\n                                                                                   'le',\n                                                                                   'ya',\n                                                                                   'o',\n                                                                                   'este',\n                                                                                   'sí',\n                                                                                   'porque', ...],\n                                                                       tokenizer=<function word_tokenize at 0x7fc348d26700>)],\n                                        'vectorizer__lowercase': [True, False]},\n                   random_state=5, refit='f1', return_train_score=True,\n                   scoring=['precision', 'recall', 'f1'], verbose=1)"
     },
     "execution_count": 77,
     "metadata": {},
     "output_type": "execute_result"
    }
   ],
   "source": [
    "search.fit(X_train, y_train)"
   ]
  },
  {
   "cell_type": "code",
   "execution_count": 78,
   "metadata": {
    "collapsed": false,
    "ExecuteTime": {
     "end_time": "2023-10-15T08:49:58.932355Z",
     "start_time": "2023-10-15T08:49:58.927160Z"
    }
   },
   "outputs": [
    {
     "data": {
      "text/plain": "{'vectorizer__lowercase': True,\n 'vectorizer': TfidfVectorizer(max_df=0.5,\n                 stop_words=['de', 'la', 'que', 'el', 'en', 'y', 'a', 'los',\n                             'del', 'se', 'las', 'por', 'un', 'para', 'con',\n                             'no', 'una', 'su', 'al', 'lo', 'como', 'más',\n                             'pero', 'sus', 'le', 'ya', 'o', 'este', 'sí',\n                             'porque', ...],\n                 tokenizer=<function word_tokenize at 0x7fc348d26700>),\n 'classifier__n_estimators': 30,\n 'classifier__max_depth': 25}"
     },
     "execution_count": 78,
     "metadata": {},
     "output_type": "execute_result"
    }
   ],
   "source": [
    "search.best_params_"
   ]
  },
  {
   "cell_type": "code",
   "execution_count": 81,
   "metadata": {
    "collapsed": false,
    "ExecuteTime": {
     "end_time": "2023-10-15T08:50:09.458799Z",
     "start_time": "2023-10-15T08:50:09.408040Z"
    }
   },
   "outputs": [
    {
     "data": {
      "text/plain": "Pipeline(steps=[('vectorizer',\n                 TfidfVectorizer(max_df=0.5,\n                                 stop_words=['de', 'la', 'que', 'el', 'en', 'y',\n                                             'a', 'los', 'del', 'se', 'las',\n                                             'por', 'un', 'para', 'con', 'no',\n                                             'una', 'su', 'al', 'lo', 'como',\n                                             'más', 'pero', 'sus', 'le', 'ya',\n                                             'o', 'este', 'sí', 'porque', ...],\n                                 tokenizer=<function word_tokenize at 0x7fc348d26700>)),\n                ('classifier',\n                 RandomForestClassifier(max_depth=25, n_estimators=30,\n                                        random_state=4))])"
     },
     "execution_count": 81,
     "metadata": {},
     "output_type": "execute_result"
    }
   ],
   "source": [
    "search.best_estimator_"
   ]
  },
  {
   "cell_type": "code",
   "execution_count": 82,
   "metadata": {
    "collapsed": false,
    "ExecuteTime": {
     "end_time": "2023-10-15T08:50:12.434668Z",
     "start_time": "2023-10-15T08:50:10.495611Z"
    }
   },
   "outputs": [],
   "source": [
    "y_train_search_predict = search.best_estimator_.predict(X_train)\n",
    "y_test_search_predict = search.best_estimator_.predict(X_test)"
   ]
  },
  {
   "cell_type": "code",
   "execution_count": 83,
   "metadata": {
    "collapsed": false,
    "ExecuteTime": {
     "end_time": "2023-10-15T08:50:13.221992Z",
     "start_time": "2023-10-15T08:50:13.178476Z"
    }
   },
   "outputs": [
    {
     "name": "stdout",
     "output_type": "stream",
     "text": [
      "Precision: 0.9966666666666667\n",
      "Recall: 0.9966666666666667\n",
      "F1: 0.9966666666666667\n"
     ]
    }
   ],
   "source": [
    "print(\"Precision:\", precision_score(y_train, y_train_search_predict, average='micro'))\n",
    "print(\"Recall:\", recall_score(y_train, y_train_search_predict, average='micro'))\n",
    "print(\"F1:\", f1_score(y_train, y_train_search_predict, average='micro'))"
   ]
  },
  {
   "cell_type": "code",
   "execution_count": 84,
   "metadata": {
    "collapsed": false,
    "ExecuteTime": {
     "end_time": "2023-10-15T08:50:14.256790Z",
     "start_time": "2023-10-15T08:50:14.232155Z"
    }
   },
   "outputs": [
    {
     "name": "stdout",
     "output_type": "stream",
     "text": [
      "Precision: 0.9533333333333334\n",
      "Recall: 0.9533333333333334\n",
      "F1: 0.9533333333333334\n"
     ]
    }
   ],
   "source": [
    "print(\"Precision:\", precision_score(y_test, y_test_search_predict, average='micro'))\n",
    "print(\"Recall:\", recall_score(y_test, y_test_search_predict, average='micro'))\n",
    "print(\"F1:\", f1_score(y_test, y_test_search_predict, average='micro'))"
   ]
  },
  {
   "cell_type": "markdown",
   "metadata": {
    "id": "Fjw9wN28RyBs",
    "ExecuteTime": {
     "end_time": "2023-10-15T07:01:42.730861Z",
     "start_time": "2023-10-15T07:01:42.643442Z"
    }
   },
   "source": [
    "### 2.3 Entrenando modelo con Gradient Boosting (Miguel Angel Cardenas) "
   ]
  },
  {
   "cell_type": "code",
   "execution_count": 710,
   "metadata": {
    "ExecuteTime": {
     "end_time": "2023-10-16T02:10:49.621877Z",
     "start_time": "2023-10-16T02:10:49.178064Z"
    }
   },
   "outputs": [],
   "source": [
    "gb_classifier = GradientBoostingClassifier(n_estimators=100, learning_rate=0.1, random_state=42)"
   ]
  },
  {
   "cell_type": "code",
   "execution_count": 711,
   "metadata": {
    "ExecuteTime": {
     "end_time": "2023-10-16T02:10:59.796586Z",
     "start_time": "2023-10-16T02:10:49.829185Z"
    }
   },
   "outputs": [
    {
     "data": {
      "text/plain": "GradientBoostingClassifier(random_state=42)"
     },
     "execution_count": 711,
     "metadata": {},
     "output_type": "execute_result"
    }
   ],
   "source": [
    "gb_classifier.fit(X_bow, y_train)"
   ]
  },
  {
   "cell_type": "code",
   "execution_count": 712,
   "metadata": {
    "ExecuteTime": {
     "end_time": "2023-10-16T02:11:00.762293Z",
     "start_time": "2023-10-16T02:10:59.791422Z"
    }
   },
   "outputs": [
    {
     "data": {
      "text/plain": "<Axes: >"
     },
     "execution_count": 712,
     "metadata": {},
     "output_type": "execute_result"
    },
    {
     "data": {
      "text/plain": "<Figure size 1500x800 with 1 Axes>",
      "image/png": "[encoded data removed]"
     },
     "metadata": {},
     "output_type": "display_data"
    }
   ],
   "source": [
    "pd.Series(gb_classifier.feature_importances_, index=bow.vocabulary_).sort_values().tail(20).plot.barh(figsize=(15, 8))"
   ]
  },
  {
   "cell_type": "code",
   "execution_count": 713,
   "metadata": {
    "ExecuteTime": {
     "end_time": "2023-10-16T02:11:03.434412Z",
     "start_time": "2023-10-16T02:11:03.272051Z"
    }
   },
   "outputs": [
    {
     "name": "stdout",
     "output_type": "stream",
     "text": [
      "Número de árboles de decisión: 100\n",
      "Profundidad de los árboles (media): 3.0\n"
     ]
    }
   ],
   "source": [
    "gb_estimators = gb_classifier.estimators_\n",
    "\n",
    "# Imprime el número de árboles\n",
    "print(\"Número de árboles de decisión:\", len(gb_estimators))\n",
    "\n",
    "# Calcula la profundidad promedio de los árboles\n",
    "depths = [tree[0].tree_.max_depth for tree in gb_estimators]\n",
    "print(\"Profundidad de los árboles (media):\", np.mean(depths))"
   ]
  },
  {
   "cell_type": "code",
   "execution_count": 714,
   "metadata": {
    "ExecuteTime": {
     "end_time": "2023-10-16T02:11:08.895769Z",
     "start_time": "2023-10-16T02:11:07.116519Z"
    }
   },
   "outputs": [],
   "source": [
    "y_train_gb_predict = gb_classifier.predict(X_bow)\n",
    "\n",
    "# Realiza predicciones en el conjunto de prueba\n",
    "y_test_gb_predict = gb_classifier.predict(bow.transform(X_test))"
   ]
  },
  {
   "cell_type": "code",
   "execution_count": 715,
   "metadata": {
    "ExecuteTime": {
     "end_time": "2023-10-16T02:11:10.690956Z",
     "start_time": "2023-10-16T02:11:09.965874Z"
    }
   },
   "outputs": [
    {
     "data": {
      "text/plain": "<sklearn.metrics._plot.confusion_matrix.ConfusionMatrixDisplay at 0x7fc2fc8fafa0>"
     },
     "execution_count": 715,
     "metadata": {},
     "output_type": "execute_result"
    },
    {
     "data": {
      "text/plain": "<Figure size 640x480 with 2 Axes>",
      "image/png": "[encoded data removed]"
     },
     "metadata": {},
     "output_type": "display_data"
    }
   ],
   "source": [
    "ConfusionMatrixDisplay.from_predictions(y_train, y_train_gb_predict)"
   ]
  },
  {
   "cell_type": "code",
   "execution_count": 716,
   "metadata": {
    "ExecuteTime": {
     "end_time": "2023-10-16T02:11:12.402391Z",
     "start_time": "2023-10-16T02:11:11.653983Z"
    }
   },
   "outputs": [
    {
     "data": {
      "text/plain": "<sklearn.metrics._plot.confusion_matrix.ConfusionMatrixDisplay at 0x7fc2fc9a1ee0>"
     },
     "execution_count": 716,
     "metadata": {},
     "output_type": "execute_result"
    },
    {
     "data": {
      "text/plain": "<Figure size 640x480 with 2 Axes>",
      "image/png": "[encoded data removed]"
     },
     "metadata": {},
     "output_type": "display_data"
    }
   ],
   "source": [
    "ConfusionMatrixDisplay.from_predictions(y_test, y_test_gb_predict)"
   ]
  },
  {
   "cell_type": "code",
   "execution_count": 717,
   "metadata": {
    "ExecuteTime": {
     "end_time": "2023-10-16T02:11:13.500669Z",
     "start_time": "2023-10-16T02:11:13.317897Z"
    }
   },
   "outputs": [
    {
     "name": "stdout",
     "output_type": "stream",
     "text": [
      "Precision: 1.0\n",
      "Recall: 1.0\n",
      "F1: 1.0\n"
     ]
    }
   ],
   "source": [
    "print(\"Precision:\", precision_score(y_train, y_train_gb_predict, average='micro'))\n",
    "print(\"Recall:\", recall_score(y_train, y_train_gb_predict, average='micro'))\n",
    "print(\"F1:\", f1_score(y_train, y_train_gb_predict, average='micro'))"
   ]
  },
  {
   "cell_type": "code",
   "execution_count": 718,
   "metadata": {
    "ExecuteTime": {
     "end_time": "2023-10-16T02:11:14.768228Z",
     "start_time": "2023-10-16T02:11:14.595773Z"
    }
   },
   "outputs": [
    {
     "name": "stdout",
     "output_type": "stream",
     "text": [
      "Precision: 0.9577777777777777\n",
      "Recall: 0.9577777777777777\n",
      "F1: 0.9577777777777777\n"
     ]
    }
   ],
   "source": [
    "print(\"Precision:\", precision_score(y_test, y_test_gb_predict, average='micro' ))\n",
    "print(\"Recall:\", recall_score(y_test, y_test_gb_predict, average='micro'))\n",
    "print(\"F1:\", f1_score(y_test, y_test_gb_predict, average='micro'))"
   ]
  },
  {
   "cell_type": "markdown",
   "source": [
    "## 3. Generacion de Predicciones"
   ],
   "metadata": {
    "collapsed": false
   }
  },
  {
   "cell_type": "markdown",
   "source": [
    "### 3.1 Exportación del Modelo"
   ],
   "metadata": {
    "collapsed": false
   }
  },
  {
   "cell_type": "code",
   "execution_count": 719,
   "outputs": [
    {
     "data": {
      "text/plain": "['tfidf_transform.pkl']"
     },
     "execution_count": 719,
     "metadata": {},
     "output_type": "execute_result"
    }
   ],
   "source": [
    "import joblib\n",
    "\n",
    "filename_model = \"tfidf_model.joblib\"\n",
    "filename_transform = \"tfidf_transform.pkl\"\n",
    "\n",
    "# Guarda el modelo en un archivo\n",
    "joblib.dump(pipeline_tfidf, filename_model)\n",
    "joblib.dump(tfidf, filename_transform)"
   ],
   "metadata": {
    "collapsed": false,
    "ExecuteTime": {
     "end_time": "2023-10-16T02:11:18.686673Z",
     "start_time": "2023-10-16T02:11:18.077966Z"
    }
   }
  },
  {
   "cell_type": "markdown",
   "source": [
    "### 3.2 Generación de las Predicciones"
   ],
   "metadata": {
    "collapsed": false
   }
  },
  {
   "cell_type": "code",
   "execution_count": 15,
   "outputs": [],
   "source": [
    "df_ods_new = pd.read_csv(\"./SinEtiquetatest_cat_345.csv\", sep=';', encoding = 'utf8')"
   ],
   "metadata": {
    "collapsed": false,
    "ExecuteTime": {
     "end_time": "2023-11-10T03:44:42.899220Z",
     "start_time": "2023-11-10T03:44:42.842598Z"
    }
   }
  },
  {
   "cell_type": "code",
   "execution_count": 16,
   "outputs": [],
   "source": [
    "datos_pred = df_ods_new['Textos_espanol']"
   ],
   "metadata": {
    "collapsed": false,
    "ExecuteTime": {
     "end_time": "2023-11-10T03:44:43.549444Z",
     "start_time": "2023-11-10T03:44:43.514431Z"
    }
   }
  },
  {
   "cell_type": "code",
   "execution_count": 17,
   "outputs": [
    {
     "data": {
      "text/plain": "186     Las políticas para promover un entorno escolar...\n1226    Sin embargo, solo muy pocos países vinculan lo...\n484     En tales casos, brindar mejor información sobr...\n1298    Parte de la razón de esto es que aún no hemos ...\n960     El aumento de la movilidad internacional de lo...\nName: Textos_espanol, dtype: object"
     },
     "execution_count": 17,
     "metadata": {},
     "output_type": "execute_result"
    }
   ],
   "source": [
    "datos_pred.sample(5)"
   ],
   "metadata": {
    "collapsed": false,
    "ExecuteTime": {
     "end_time": "2023-11-10T03:44:47.392398Z",
     "start_time": "2023-11-10T03:44:47.362605Z"
    }
   }
  },
  {
   "cell_type": "code",
   "execution_count": 723,
   "outputs": [],
   "source": [
    "# Remplaza los caracteres erroneos con su equivalencia pero en UTF-8\n",
    "df_ods_new['Textos_espanol'] = df_ods_new['Textos_espanol'].str.replace('Ã¡', 'á')\n",
    "df_ods_new['Textos_espanol'] = df_ods_new['Textos_espanol'].str.replace('Ã©', 'é')\n",
    "df_ods_new['Textos_espanol'] = df_ods_new['Textos_espanol'].str.replace('Ã³', 'ó')\n",
    "df_ods_new['Textos_espanol'] = df_ods_new['Textos_espanol'].str.replace('Ãº', 'ú')\n",
    "df_ods_new['Textos_espanol'] = df_ods_new['Textos_espanol'].str.replace('Ã±', 'ñ')\n",
    "df_ods_new['Textos_espanol'] = df_ods_new['Textos_espanol'].str.replace('Ã', 'í')"
   ],
   "metadata": {
    "collapsed": false,
    "ExecuteTime": {
     "end_time": "2023-10-16T02:11:24.473178Z",
     "start_time": "2023-10-16T02:11:24.250898Z"
    }
   }
  },
  {
   "cell_type": "code",
   "execution_count": 724,
   "outputs": [],
   "source": [
    "# Carga el modelo desde el archivo\n",
    "tfidf_model = joblib.load(filename_model)\n",
    "tfidf = joblib.load(filename_transform)"
   ],
   "metadata": {
    "collapsed": false,
    "ExecuteTime": {
     "end_time": "2023-10-16T02:11:29.107640Z",
     "start_time": "2023-10-16T02:11:28.742564Z"
    }
   }
  },
  {
   "cell_type": "code",
   "execution_count": 725,
   "outputs": [],
   "source": [
    "X_pred = tfidf.transform(datos_pred)\n",
    "y_test_search_predict = tfidf_model.predict(datos_pred)"
   ],
   "metadata": {
    "collapsed": false,
    "ExecuteTime": {
     "end_time": "2023-10-16T02:11:36.875104Z",
     "start_time": "2023-10-16T02:11:30.103869Z"
    }
   }
  },
  {
   "cell_type": "code",
   "execution_count": 726,
   "outputs": [
    {
     "data": {
      "text/plain": "array([4, 3, 5, ..., 4, 3, 4])"
     },
     "execution_count": 726,
     "metadata": {},
     "output_type": "execute_result"
    }
   ],
   "source": [
    "y_test_search_predict"
   ],
   "metadata": {
    "collapsed": false,
    "ExecuteTime": {
     "end_time": "2023-10-16T02:11:36.997660Z",
     "start_time": "2023-10-16T02:11:36.885633Z"
    }
   }
  },
  {
   "cell_type": "code",
   "execution_count": 727,
   "outputs": [],
   "source": [
    "df_ods_new['sdg'] = y_test_search_predict[0:]"
   ],
   "metadata": {
    "collapsed": false,
    "ExecuteTime": {
     "end_time": "2023-10-16T02:11:41.067642Z",
     "start_time": "2023-10-16T02:11:40.739818Z"
    }
   }
  },
  {
   "cell_type": "code",
   "execution_count": 728,
   "outputs": [
    {
     "data": {
      "text/plain": "                                         Textos_espanol  sdg\n0     Se basa en los nueve años de educación básica ...    4\n1     En la última década, y en particular desde 201...    3\n2     Así, por ejemplo, el estigma asociado a los be...    5\n3     Hay muchos profesores no cualificados en las e...    4\n4     A raíz de su preocupación por el hecho de que ...    3\n...                                                 ...  ...\n1754  O puede darse de baja llamando a XXXXXXX o vis...    3\n1755  Considere establecer o fortalecer la capacidad...    5\n1756  Sin embargo, la calidad general del entorno de...    4\n1757  Cada vez con más frecuencia, los traficantes d...    3\n1758  También presenta responsabilidad individual, l...    4\n\n[1759 rows x 2 columns]",
      "text/html": "<div>\n<style scoped>\n    .dataframe tbody tr th:only-of-type {\n        vertical-align: middle;\n    }\n\n    .dataframe tbody tr th {\n        vertical-align: top;\n    }\n\n    .dataframe thead th {\n        text-align: right;\n    }\n</style>\n<table border=\"1\" class=\"dataframe\">\n  <thead>\n    <tr style=\"text-align: right;\">\n      <th></th>\n      <th>Textos_espanol</th>\n      <th>sdg</th>\n    </tr>\n  </thead>\n  <tbody>\n    <tr>\n      <th>0</th>\n      <td>Se basa en los nueve años de educación básica ...</td>\n      <td>4</td>\n    </tr>\n    <tr>\n      <th>1</th>\n      <td>En la última década, y en particular desde 201...</td>\n      <td>3</td>\n    </tr>\n    <tr>\n      <th>2</th>\n      <td>Así, por ejemplo, el estigma asociado a los be...</td>\n      <td>5</td>\n    </tr>\n    <tr>\n      <th>3</th>\n      <td>Hay muchos profesores no cualificados en las e...</td>\n      <td>4</td>\n    </tr>\n    <tr>\n      <th>4</th>\n      <td>A raíz de su preocupación por el hecho de que ...</td>\n      <td>3</td>\n    </tr>\n    <tr>\n      <th>...</th>\n      <td>...</td>\n      <td>...</td>\n    </tr>\n    <tr>\n      <th>1754</th>\n      <td>O puede darse de baja llamando a XXXXXXX o vis...</td>\n      <td>3</td>\n    </tr>\n    <tr>\n      <th>1755</th>\n      <td>Considere establecer o fortalecer la capacidad...</td>\n      <td>5</td>\n    </tr>\n    <tr>\n      <th>1756</th>\n      <td>Sin embargo, la calidad general del entorno de...</td>\n      <td>4</td>\n    </tr>\n    <tr>\n      <th>1757</th>\n      <td>Cada vez con más frecuencia, los traficantes d...</td>\n      <td>3</td>\n    </tr>\n    <tr>\n      <th>1758</th>\n      <td>También presenta responsabilidad individual, l...</td>\n      <td>4</td>\n    </tr>\n  </tbody>\n</table>\n<p>1759 rows × 2 columns</p>\n</div>"
     },
     "execution_count": 728,
     "metadata": {},
     "output_type": "execute_result"
    }
   ],
   "source": [
    "df_ods_new"
   ],
   "metadata": {
    "collapsed": false,
    "ExecuteTime": {
     "end_time": "2023-10-16T02:11:42.433325Z",
     "start_time": "2023-10-16T02:11:42.247331Z"
    }
   }
  },
  {
   "cell_type": "code",
   "execution_count": 729,
   "outputs": [],
   "source": [
    "# Por último, es posible guardar un Dataframe en forma de CSV\n",
    "df_ods_new.to_csv(\"Predicciones_ODS.csv\")"
   ],
   "metadata": {
    "collapsed": false,
    "ExecuteTime": {
     "end_time": "2023-10-16T02:12:21.765164Z",
     "start_time": "2023-10-16T02:12:21.691874Z"
    }
   }
  },
  {
   "cell_type": "markdown",
   "metadata": {
    "id": "Ta6GsY_7zPFX",
    "ExecuteTime": {
     "start_time": "2023-10-15T06:08:07.201091Z"
    }
   },
   "source": [
    "## 4. Resultados"
   ]
  },
  {
   "cell_type": "markdown",
   "source": [
    "### 4.1 Escogiendo el Modelo mas adecuado"
   ],
   "metadata": {
    "collapsed": false
   }
  },
  {
   "cell_type": "markdown",
   "source": [
    "Aunque en un escenario ideal se podría encontrar el modelo de clasificación óptimo probando diferentes combinaciones de hiperparámetros, tanto como para los vectorizadores como para el Random Forest, para los tres algoritmos propuestos (Bag of Words, TF-IDF y Gradient Boosting), fue evidente en el intento en la seccion de `Seleccionando un posible mejor modelo` de que esta tarea es sumamente tediosa y conlleva un gasto computacional significativo por la forma en la que los algoritmos como RandomizedSearchCV o la optimización Bayesiana funcionan. Además, existen muchísimas posibles combinaciones de conjuntos de hiperparametros que se le pueden pasar a RandomizedSearchCV por lo que no es tan facil encontrar el conjunto de hiperparámetros que resulte en una busqueda exitosa.  \n",
    "\n",
    "Sin embargo, con los hiperparámetros escogidos en el pipeline y utilizando RandomizedSearchCV NO se llegó a un mejor resultado que el utilizado originalmente, pues sin hacer uso de RandomizedSearchCV la puntuación F1 del modelo de TF-IDF fue de 0.98, mientras que con RandomizedSearchCV fue de 0.95 para los datos de prueba. Claramente, se pudieron haber escogido mejores conjuntos de hiperparámetros para probar en la busqueda, pero esto va más alla del alcance de este proyecto, además se llegó a valores aceptables de precision, recuperación (recall) y puntuación F1.\n",
    "\n",
    "Asi pues, comparando los tres modelos escogidos en sus metricas de precision, recall (recuperación) y puntuación F1:"
   ],
   "metadata": {
    "collapsed": false
   }
  },
  {
   "cell_type": "code",
   "execution_count": 730,
   "outputs": [
    {
     "data": {
      "text/plain": "              Modelo  Precisión    Recall  F1 Score\n0                BoW   0.976667  0.976667  0.976667\n1             TF-IDF   0.980000  0.980000  0.980000\n2  Gradient Boosting   0.957778  0.957778  0.957778",
      "text/html": "<div>\n<style scoped>\n    .dataframe tbody tr th:only-of-type {\n        vertical-align: middle;\n    }\n\n    .dataframe tbody tr th {\n        vertical-align: top;\n    }\n\n    .dataframe thead th {\n        text-align: right;\n    }\n</style>\n<table border=\"1\" class=\"dataframe\">\n  <thead>\n    <tr style=\"text-align: right;\">\n      <th></th>\n      <th>Modelo</th>\n      <th>Precisión</th>\n      <th>Recall</th>\n      <th>F1 Score</th>\n    </tr>\n  </thead>\n  <tbody>\n    <tr>\n      <th>0</th>\n      <td>BoW</td>\n      <td>0.976667</td>\n      <td>0.976667</td>\n      <td>0.976667</td>\n    </tr>\n    <tr>\n      <th>1</th>\n      <td>TF-IDF</td>\n      <td>0.980000</td>\n      <td>0.980000</td>\n      <td>0.980000</td>\n    </tr>\n    <tr>\n      <th>2</th>\n      <td>Gradient Boosting</td>\n      <td>0.957778</td>\n      <td>0.957778</td>\n      <td>0.957778</td>\n    </tr>\n  </tbody>\n</table>\n</div>"
     },
     "execution_count": 730,
     "metadata": {},
     "output_type": "execute_result"
    }
   ],
   "source": [
    "# Crear un diccionario con los nombres de los modelos y sus valores de F1\n",
    "data = {\n",
    "    'Modelo': ['BoW', 'TF-IDF', 'Gradient Boosting'],\n",
    "    'Precisión': [ precision_score(y_test, y_test_bow_predict, average='micro' ), precision_score(y_test, y_test_tfidf_predict, average='micro'), precision_score(y_test, y_test_gb_predict, average='micro' )],\n",
    "    'Recall': [recall_score(y_test, y_test_bow_predict, average='micro'), recall_score(y_test, y_test_tfidf_predict, average='micro'), recall_score(y_test, y_test_gb_predict, average='micro')],\n",
    "    'F1 Score': [f1_score(y_test, y_test_bow_predict, average='micro'), f1_score(y_test, y_test_tfidf_predict, average='micro'), f1_score(y_test, y_test_gb_predict, average='micro')]\n",
    "}\n",
    "df = pd.DataFrame(data)\n",
    "df"
   ],
   "metadata": {
    "collapsed": false,
    "ExecuteTime": {
     "end_time": "2023-10-16T02:12:25.415551Z",
     "start_time": "2023-10-16T02:12:25.334719Z"
    }
   }
  },
  {
   "cell_type": "markdown",
   "source": [
    "Por tanto, el más adecuado para realizar el analisis de clasificacion, de acuerdo a cada una de las metricas es TF-IDF."
   ],
   "metadata": {
    "collapsed": false
   }
  },
  {
   "cell_type": "markdown",
   "source": [
    "### 4.2 Analisis de predicciones"
   ],
   "metadata": {
    "collapsed": false
   }
  },
  {
   "cell_type": "markdown",
   "source": [
    "Aunque no es posible conocer la precision de las predicciones realizadas, pues los datos no están etiquetados, por lo que no es posible conocer las métricas de evaluación, como la precisión, la recuperación y la puntuación F1, entre otras, porque no existen datos etiquetados con los cuales comparar las predicciones realizadas, se puede decir con cierto grado de confianza que se escogio el mejor modelo de acuerdo a las metricas obtenidas. \n",
    "\n",
    "A continuacion se puede ver una muestra de 10 registros de las predicciones realizadas:"
   ],
   "metadata": {
    "collapsed": false
   }
  },
  {
   "cell_type": "code",
   "execution_count": 731,
   "outputs": [
    {
     "data": {
      "text/plain": "                                         Textos_espanol  sdg\n1499  Significa ver las capacidades lingüísticas de ...    4\n1068  Estos fondos se utilizaron principalmente para...    4\n426   Por último, pero no por ello menos importante,...    5\n1666  El gobierno decidió recientemente establecer u...    3\n53    A diferencia de los acuerdos anteriores, la nu...    4\n1319  Los países que enfatizan las instituciones de ...    4\n38    Los estudios que utilizan la clase ocupacional...    3\n975   Las estadísticas de género brindan a los inves...    5\n394   Aproximadamente el 15% de los hombres y el 20%...    3\n197   En Sierra Leona, las mujeres participan en ini...    5",
      "text/html": "<div>\n<style scoped>\n    .dataframe tbody tr th:only-of-type {\n        vertical-align: middle;\n    }\n\n    .dataframe tbody tr th {\n        vertical-align: top;\n    }\n\n    .dataframe thead th {\n        text-align: right;\n    }\n</style>\n<table border=\"1\" class=\"dataframe\">\n  <thead>\n    <tr style=\"text-align: right;\">\n      <th></th>\n      <th>Textos_espanol</th>\n      <th>sdg</th>\n    </tr>\n  </thead>\n  <tbody>\n    <tr>\n      <th>1499</th>\n      <td>Significa ver las capacidades lingüísticas de ...</td>\n      <td>4</td>\n    </tr>\n    <tr>\n      <th>1068</th>\n      <td>Estos fondos se utilizaron principalmente para...</td>\n      <td>4</td>\n    </tr>\n    <tr>\n      <th>426</th>\n      <td>Por último, pero no por ello menos importante,...</td>\n      <td>5</td>\n    </tr>\n    <tr>\n      <th>1666</th>\n      <td>El gobierno decidió recientemente establecer u...</td>\n      <td>3</td>\n    </tr>\n    <tr>\n      <th>53</th>\n      <td>A diferencia de los acuerdos anteriores, la nu...</td>\n      <td>4</td>\n    </tr>\n    <tr>\n      <th>1319</th>\n      <td>Los países que enfatizan las instituciones de ...</td>\n      <td>4</td>\n    </tr>\n    <tr>\n      <th>38</th>\n      <td>Los estudios que utilizan la clase ocupacional...</td>\n      <td>3</td>\n    </tr>\n    <tr>\n      <th>975</th>\n      <td>Las estadísticas de género brindan a los inves...</td>\n      <td>5</td>\n    </tr>\n    <tr>\n      <th>394</th>\n      <td>Aproximadamente el 15% de los hombres y el 20%...</td>\n      <td>3</td>\n    </tr>\n    <tr>\n      <th>197</th>\n      <td>En Sierra Leona, las mujeres participan en ini...</td>\n      <td>5</td>\n    </tr>\n  </tbody>\n</table>\n</div>"
     },
     "execution_count": 731,
     "metadata": {},
     "output_type": "execute_result"
    }
   ],
   "source": [
    "df_ods_new.sample(10)"
   ],
   "metadata": {
    "collapsed": false,
    "ExecuteTime": {
     "end_time": "2023-10-16T02:12:28.181998Z",
     "start_time": "2023-10-16T02:12:28.116256Z"
    }
   }
  },
  {
   "cell_type": "markdown",
   "source": [
    "Adicionalmente, es posible ver como se distribuyen los documentos a los cuales se les realizó la predicción y es posible ver que los datos se distribuyen entre las 3 categorias de ODS esperadas (Categoria 3, Categoria 4 y Categoria 5):"
   ],
   "metadata": {
    "collapsed": false
   }
  },
  {
   "cell_type": "code",
   "execution_count": 732,
   "outputs": [
    {
     "data": {
      "text/plain": "<Figure size 640x480 with 1 Axes>",
      "image/png": "[encoded data removed]"
     },
     "metadata": {},
     "output_type": "display_data"
    }
   ],
   "source": [
    "import matplotlib.pyplot as plt\n",
    "\n",
    "# Contar la frecuencia de cada ODS\n",
    "frecuencia_numeros = df_ods_new['sdg'].value_counts()\n",
    "\n",
    "# Crear un histograma\n",
    "plt.bar(frecuencia_numeros.index, frecuencia_numeros.values)\n",
    "\n",
    "# Configurar etiquetas y título\n",
    "plt.xlabel('Tipo de ODS')\n",
    "plt.ylabel('Frecuencia')\n",
    "plt.title('Distribución de ODS - Predicción')\n",
    "\n",
    "# Mostrar el histograma\n",
    "plt.show()"
   ],
   "metadata": {
    "collapsed": false,
    "ExecuteTime": {
     "end_time": "2023-10-16T02:12:30.088918Z",
     "start_time": "2023-10-16T02:12:29.791291Z"
    }
   }
  },
  {
   "cell_type": "code",
   "execution_count": null,
   "outputs": [],
   "source": [],
   "metadata": {
    "collapsed": false
   }
  }
 ],
 "metadata": {
  "colab": {
   "provenance": []
  },
  "kernelspec": {
   "display_name": "Python 3 (ipykernel)",
   "language": "python",
   "name": "python3"
  },
  "language_info": {
   "codemirror_mode": {
    "name": "ipython",
    "version": 3
   },
   "file_extension": ".py",
   "mimetype": "text/x-python",
   "name": "python",
   "nbconvert_exporter": "python",
   "pygments_lexer": "ipython3",
   "version": "3.11.5"
  }
 },
 "nbformat": 4,
 "nbformat_minor": 0
}
